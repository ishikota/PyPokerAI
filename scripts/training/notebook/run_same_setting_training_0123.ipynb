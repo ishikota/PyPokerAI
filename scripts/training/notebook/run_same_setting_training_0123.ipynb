{
 "cells": [
  {
   "cell_type": "markdown",
   "metadata": {},
   "source": [
    "# Train by 1-hidden layer NeuralNet\n",
    "- algorithm : Sarsa\n",
    "- feature : scaled scalar features\n",
    "- final_round : 1,2\n",
    "- number of unit on hidden layer : 128\n",
    "- **with relu activation function**"
   ]
  },
  {
   "cell_type": "markdown",
   "metadata": {},
   "source": [
    "# 1 round\n",
    "### Training Metrics\n",
    "\n",
    "| InitialValue | Loss |\n",
    "|------|------|\n",
    "| <img src=\"./resource/mlp_1layer_with_activation_0122/1round/initial_value_transition.png\" width=400 /> | <img src=\"./resource/mlp_1layer_with_activation_0122/1round/loss_history.png\" width=400 /> | \n",
    "| <img src=\"./resource/mlp_1layer_with_activation_0122/1round/trial1/initial_value_transition.png\" width=400 /> | <img src=\"./resource/mlp_1layer_with_activation_0122/1round/trial1/loss_history.png\" width=400 /> | \n",
    "| <img src=\"./resource/mlp_1layer_with_activation_0122/1round/trial2/initial_value_transition.png\" width=400 /> | <img src=\"./resource/mlp_1layer_with_activation_0122/1round/trial2/loss_history.png\" width=400 /> | \n",
    "\n",
    "### RoundRobin\n",
    "\n",
    "| plot | hist |\n",
    "|------|------|\n",
    "|  <img src=\"./resource/mlp_1layer_with_activation_0122/1round/1_round_3000_match_subplot_0121_20_22_20.png\"/> | <img src=\"./resource/mlp_1layer_with_activation_0122/1round/1_round_3000_match_histgram_0121_20_22_20.png\" />|\n",
    "|  <img src=\"./resource/mlp_1layer_with_activation_0122/1round/trial1/1_round_3000_match_subplot_0123_12_51_08.png\"/> | <img src=\"./resource/mlp_1layer_with_activation_0122/1round/trial1/1_round_3000_match_histgram_0123_12_51_08.png\" />|\n",
    "|  <img src=\"./resource/mlp_1layer_with_activation_0122/1round/trial2/1_round_3000_match_subplot_0123_12_54_20.png\"/> | <img src=\"./resource/mlp_1layer_with_activation_0122/1round/trial2/1_round_3000_match_histgram_0123_12_54_20.png\" />|\n",
    "\n",
    "# RoundRobin by 3 training results (all trained by same settings)\n",
    "| plot | hist |\n",
    "|------|------|\n",
    "|  <img src=\"./resource/mlp_1layer_with_activation_0122/1round/1_round_3000_match_subplot_0123_13_04_49.png\"/> | <img src=\"./resource/mlp_1layer_with_activation_0122/1round/1_round_3000_match_histgram_0123_13_04_49.png\" />|\n"
   ]
  },
  {
   "cell_type": "markdown",
   "metadata": {},
   "source": [
    "# 2 round\n",
    "### Training Metrics\n",
    "\n",
    "| InitialValue | Loss |\n",
    "|------|------|\n",
    "| <img src=\"./resource/mlp_1layer_with_activation_0122/2round/initial_value_transition.png\" width=600 /> | <img src=\"./resource/mlp_1layer_with_activation_0122/2round/loss_history.png\" width=600 /> | \n",
    "| <img src=\"./resource/mlp_1layer_with_activation_0122/2round/trial1/initial_value_transition.png\" width=400 /> | <img src=\"./resource/mlp_1layer_with_activation_0122/2round/trial1/loss_history.png\" width=400 /> | \n",
    "\n",
    "### RoundRobin\n",
    "\n",
    "| plot | hist |\n",
    "|------|------|\n",
    "|  <img src=\"./resource/mlp_1layer_with_activation_0122/2round/1_round_3000_match_subplot_0121_22_36_16.png\"/> | <img src=\"./resource/mlp_1layer_with_activation_0122/2round/1_round_3000_match_histgram_0121_22_36_16.png\" />|\n",
    "|  <img src=\"./resource/mlp_1layer_with_activation_0122/2round/trial1/2_round_3000_match_subplot_0123_22_38_55.png\"/> | <img src=\"./resource/mlp_1layer_with_activation_0122/2round/trial1/2_round_3000_match_histgram_0123_22_38_55.png\" />|\n",
    "|  <img src=\"./resource/mlp_1layer_with_activation_0122/2round/trial2/2_round_3000_match_subplot_0124_13_06_21.png\"/> | <img src=\"./resource/mlp_1layer_with_activation_0122/2round/trial2/2_round_3000_match_histgram_0124_13_06_21.png\" />|\n",
    "\n",
    "# RoundRobin by 3 training results (all trained by same settings)\n",
    "| plot | hist |\n",
    "|------|------|\n",
    "|  <img src=\"./resource/mlp_1layer_with_activation_0122/2round/2_round_3000_match_subplot_0124_13_23_58.png\"/> | <img src=\"./resource/mlp_1layer_with_activation_0122/2round/2_round_3000_match_histgram_0124_13_23_58.png\" />|"
   ]
  }
 ],
 "metadata": {
  "kernelspec": {
   "display_name": "Python 2",
   "language": "python",
   "name": "python2"
  },
  "language_info": {
   "codemirror_mode": {
    "name": "ipython",
    "version": 2
   },
   "file_extension": ".py",
   "mimetype": "text/x-python",
   "name": "python",
   "nbconvert_exporter": "python",
   "pygments_lexer": "ipython2",
   "version": "2.7.11"
  }
 },
 "nbformat": 4,
 "nbformat_minor": 0
}
