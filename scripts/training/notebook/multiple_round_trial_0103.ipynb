{
 "cells": [
  {
   "cell_type": "markdown",
   "metadata": {},
   "source": [
    "# Multiple Round Poker Experiment with shuffle position\n",
    "- training length : 1000000 iteration\n",
    "- epsilon annealing : range=[0.99,0.1], length=800000\n",
    "- shuffle seat position at every episode\n",
    "\n",
    "#### feature expression\n",
    "1. Scaled Scalar Feature\n",
    "2. Binary Onehot Feature\n",
    "\n",
    "#### algorithms\n",
    "1. MonteCarlo\n",
    "2. Sarsa\n",
    "3. QLearning\n",
    "\n",
    "## Conclusion\n",
    "- **roundが長くなるほど,FOLD多めの安定したプレイによってるぽい.**\n",
    "    - 1round pokerよりも慎重なプレイを学習したのは納得がいく\n",
    "- **QLearning**が残りの2つのアルゴリズムと比較して3.5倍ほどの計算時間がかかったあげく,**学習結果がよくない**.\n",
    "    - 学習後半のプレイは常に1万より下で,結果が前半より悪い\n",
    "    - weightもcardをほとんど見てなさそう"
   ]
  },
  {
   "cell_type": "markdown",
   "metadata": {},
   "source": [
    "## Learning 2-round Poker by Scaled Scalar Feature"
   ]
  },
  {
   "cell_type": "markdown",
   "metadata": {},
   "source": [
    "## MonteCarlo\n",
    "training time : 83269s\n",
    "\n",
    "### Initial Value Transition\n",
    "<img src=\"./resource/multiple_round_trial_0103/scaled_scalar/montecarlo/initial_value_transition.png\" width=600 />\n",
    "\n",
    "### Round-Robin match\n",
    "| plot | hist |\n",
    "|------|------|\n",
    "|  <img src=\"./resource/multiple_round_trial_0103/scaled_scalar/montecarlo/2_round_3000_match_subplot_0106_11_29_22.png\"/> | <img src=\"./resource/multiple_round_trial_0103/scaled_scalar/montecarlo/2_round_3000_match_histgram_0106_11_29_22.png\" />|\n",
    "\n",
    "### Weights for Important Elements\n",
    "street\n",
    "    - FOLD : -0.0268\n",
    "    - CALL : -0.1519\n",
    "    - MIN_RAISE : 0.5554\n",
    "    - DOUBLE_RAISE : 0.6753\n",
    "    - TRIPLE_RAISE : 0.6259\n",
    "    - MAX_RAISE : 0.4928\n",
    "cards\n",
    "    - FOLD : -0.0087\n",
    "    - CALL : 0.6423\n",
    "    - MIN_RAISE : -0.1156\n",
    "    - DOUBLE_RAISE : -0.0997\n",
    "    - TRIPLE_RAISE : -0.1308\n",
    "    - MAX_RAISE : -0.1484\n",
    "pot\n",
    "    - FOLD : -1.1177\n",
    "    - CALL : -1.1959\n",
    "    - MIN_RAISE : -0.0951\n",
    "    - DOUBLE_RAISE : 1.1481\n",
    "    - TRIPLE_RAISE : 1.7364\n",
    "    - MAX_RAISE : 0.5498"
   ]
  },
  {
   "cell_type": "markdown",
   "metadata": {},
   "source": [
    "## Sarsa\n",
    "training time : 86236s\n",
    "\n",
    "### Initial Value Transition\n",
    "<img src=\"./resource/multiple_round_trial_0103/scaled_scalar/sarsa/initial_value_transition.png\" width=600 />\n",
    "\n",
    "### Round-Robin match\n",
    "| plot | hist |\n",
    "|------|------|\n",
    "|  <img src=\"./resource/multiple_round_trial_0103/scaled_scalar/sarsa/2_round_3000_match_subplot_0106_11_45_02.png\"/> | <img src=\"./resource/multiple_round_trial_0103/scaled_scalar/sarsa/2_round_3000_match_histgram_0106_11_45_02.png\" />|\n",
    "\n",
    "### Weights for Important Elements\n",
    "street\n",
    "    - FOLD : -0.2308\n",
    "    - CALL : -0.4335\n",
    "    - MIN_RAISE : -0.1274\n",
    "    - DOUBLE_RAISE : -0.0063\n",
    "    - TRIPLE_RAISE : 0.0471\n",
    "    - MAX_RAISE : 0.0029\n",
    "cards\n",
    "    - FOLD : 0.0058\n",
    "    - CALL : 0.7221\n",
    "    - MIN_RAISE : -0.0039\n",
    "    - DOUBLE_RAISE : -0.0143\n",
    "    - TRIPLE_RAISE : -0.0126\n",
    "    - MAX_RAISE : -0.0974\n",
    "pot\n",
    "    - FOLD : -0.3743\n",
    "    - CALL : -2.8342\n",
    "    - MIN_RAISE : -1.0297\n",
    "    - DOUBLE_RAISE : -1.8439\n",
    "    - TRIPLE_RAISE : -1.5817\n",
    "    - MAX_RAISE : -0.5266"
   ]
  },
  {
   "cell_type": "markdown",
   "metadata": {},
   "source": [
    "## QLearning\n",
    "training time : 304502s\n",
    "\n",
    "### Initial Value Transition\n",
    "<img src=\"./resource/multiple_round_trial_0103/scaled_scalar/q_learning/initial_value_transition.png\" width=600 />\n",
    "\n",
    "### Round-Robin match\n",
    "| plot | hist |\n",
    "|------|------|\n",
    "|  <img src=\"./resource/multiple_round_trial_0103/scaled_scalar/q_learning/2_round_3000_match_subplot_0107_11_28_25.png\"/> | <img src=\"./resource/multiple_round_trial_0103/scaled_scalar/q_learning/2_round_3000_match_histgram_0107_11_28_25.png\" />|\n",
    "\n",
    "### Weights for Important Elements\n",
    "street\n",
    "    - FOLD : 0.0083\n",
    "    - CALL : -0.0821\n",
    "    - MIN_RAISE : -0.0461\n",
    "    - DOUBLE_RAISE : 0.0217\n",
    "    - TRIPLE_RAISE : 0.0122\n",
    "    - MAX_RAISE : 0.0834\n",
    "cards\n",
    "    - FOLD : -0.0049\n",
    "    - CALL : 0.0258\n",
    "    - MIN_RAISE : 0.0343\n",
    "    - DOUBLE_RAISE : 0.0376\n",
    "    - TRIPLE_RAISE : 0.0226\n",
    "    - MAX_RAISE : 1.3904\n",
    "pot\n",
    "    - FOLD : 3.8582\n",
    "    - CALL : 5.2668\n",
    "    - MIN_RAISE : -1.7925\n",
    "    - DOUBLE_RAISE : -2.971\n",
    "    - TRIPLE_RAISE : -3.5266\n",
    "    - MAX_RAISE : -2.6665\n"
   ]
  },
  {
   "cell_type": "markdown",
   "metadata": {},
   "source": [
    "## Learning 2-round Poker by Binary Onehot Feature"
   ]
  },
  {
   "cell_type": "markdown",
   "metadata": {},
   "source": [
    "## MonteCarlo\n",
    "training time : 168315s\n",
    "\n",
    "### Initial Value Transition\n",
    "<img src=\"./resource/multiple_round_trial_0103/binary_onehot/montecarlo/initial_value_transition.png\" width=600 />\n",
    "\n",
    "### Round-Robin match\n",
    "| plot | hist |\n",
    "|------|------|\n",
    "|  <img src=\"./resource/multiple_round_trial_0103/binary_onehot/montecarlo/2_round_3000_match_subplot_0106_12_10_29.png\"/> | <img src=\"./resource/multiple_round_trial_0103/binary_onehot/montecarlo/2_round_3000_match_histgram_0106_12_10_29.png\" />|\n",
    "\n",
    "### Weights for Important Elements\n",
    "street\n",
    "    - FOLD : [1.9222, 1.8901, 1.8462, 1.7715]\n",
    "    - CALL : [-0.1098, -0.3534, -0.5793, -0.4682]\n",
    "    - MIN_RAISE : [0.309, 0.2754, 0.1393, 0.2186]\n",
    "    - DOUBLE_RAISE : [-0.271, -0.2727, -0.3421, -0.416]\n",
    "    - TRIPLE_RAISE : [-0.3275, -0.4036, -0.5796, -0.503]\n",
    "    - MAX_RAISE : [0.5117, 0.3754, 0.3933, 0.3523]\n",
    "cards\n",
    "    - FOLD : [0.025, 0.0146, 0.0, -0.0127, 0.0049, 0.01, 0.0197, -0.0053, -0.0017, -0.0116]\n",
    "    - CALL : [-0.0166, -0.0133, -0.0171, 0.0091, -0.0571, 0.0315, 0.0599, 0.0956, 0.0331, 0.1127]\n",
    "    - MIN_RAISE : [-0.0376, 0.0265, -0.0167, -0.0052, -0.0186, -0.0079, -0.0205, 0.0219, 0.0999, 0.0861]\n",
    "    - DOUBLE_RAISE : [0.0366, 0.009, 0.0088, 0.03, 0.0714, -0.0048, 0.0421, 0.0116, -0.0572, 0.0363]\n",
    "    - TRIPLE_RAISE : [-0.0035, -0.004, 0.0351, -0.0452, -0.0221, 0.0381, -0.066, 0.0278, 0.0582, 0.0823]\n",
    "    - MAX_RAISE : [-0.0218, 0.0101, 0.0267, 0.0317, 0.0206, 0.0044, -0.0077, 0.0853, 0.0261, 0.131]\n",
    "pot\n",
    "    - FOLD : [-0.0128, 0.0062, -0.0083, -0.0186, -0.0465, -0.0546, -0.1164, -0.3478, -0.5788, -1.2844]\n",
    "    - CALL : [-0.016, -0.0453, -0.0038, 0.0079, 0.0731, 0.0016, 0.1733, 0.2999, 0.7184, 1.969]\n",
    "    - MIN_RAISE : [0.0349, -0.0828, -0.0442, 0.0136, -0.0566, -0.0254, -0.0018, 0.1131, 0.2705, 1.4247]\n",
    "    - DOUBLE_RAISE : [0.0159, -0.0723, -0.0165, -0.0274, -0.0153, -0.0441, -0.2552, -0.1197, -0.0074, 1.3172]\n",
    "    - TRIPLE_RAISE : [0.0166, -0.0507, -0.0185, -0.0367, -0.1531, -0.1045, -0.085, -0.2249, -0.4165, 0.9561]\n",
    "    - MAX_RAISE : [0.028, -0.0419, -0.066, 0.0592, -0.0025, 0.0439, 0.0679, 0.3335, 0.4733, 0.6107]"
   ]
  },
  {
   "cell_type": "markdown",
   "metadata": {},
   "source": [
    "## Sarsa\n",
    "training time : 185169s\n",
    "\n",
    "### Initial Value Transition\n",
    "<img src=\"./resource/multiple_round_trial_0103/binary_onehot/sarsa/initial_value_transition.png\" width=600 />\n",
    "\n",
    "### Round-Robin match\n",
    "| plot | hist |\n",
    "|------|------|\n",
    "|  <img src=\"./resource/multiple_round_trial_0103/binary_onehot/sarsa/2_round_3000_match_subplot_0106_12_25_53.png\"/> | <img src=\"./resource/multiple_round_trial_0103/binary_onehot/sarsa/2_round_3000_match_histgram_0106_12_25_53.png\" />|\n",
    "\n",
    "### Weights for Important Elements\n",
    "street\n",
    "    - FOLD : [1.0885, 1.0785, 1.117, 1.2068]\n",
    "    - CALL : [-0.2612, -0.3894, -0.3928, -0.4449]\n",
    "    - MIN_RAISE : [0.2358, 0.1516, 0.0141, 0.0797]\n",
    "    - DOUBLE_RAISE : [-0.1373, -0.2436, -0.3343, -0.1427]\n",
    "    - TRIPLE_RAISE : [-0.0267, -0.0692, -0.0596, -0.14]\n",
    "    - MAX_RAISE : [0.5169, 0.5557, 0.5713, 0.4881]\n",
    "cards\n",
    "    - FOLD : [-0.006, 0.0089, 0.0121, 0.0027, -0.0186, 0.0071, -0.0153, -0.0104, -0.0167, -0.0209]\n",
    "    - CALL : [0.02, 0.0239, -0.0305, 0.0002, -0.0084, -0.0007, 0.0142, -0.0424, 0.0755, 0.1931]\n",
    "    - MIN_RAISE : [-0.0007, 0.0115, 0.0045, 0.0021, 0.0162, -0.002, 0.0362, -0.0146, -0.0681, 0.0991]\n",
    "    - DOUBLE_RAISE : [0.0006, -0.0451, -0.015, -0.0347, 0.0042, 0.0367, 0.0642, 0.0749, 0.0356, 0.0391]\n",
    "    - TRIPLE_RAISE : [0.0301, 0.0002, -0.0295, 0.0047, 0.0345, -0.015, 0.0416, -0.0513, 0.1379, 0.0977]\n",
    "    - MAX_RAISE : [-0.0414, -0.0573, 0.003, -0.0116, -0.0037, -0.035, 0.0265, 0.1182, 0.3203, 0.2621]\n",
    "pot\n",
    "    - FOLD : [-0.0084, -0.0228, 0.0034, 0.004, -0.014, -0.0211, -0.041, -0.1044, -0.2418, -0.3941]\n",
    "    - CALL : [-0.0441, 0.0185, -0.0416, -0.1069, -0.0573, -0.0704, 0.061, -0.031, -0.1975, 0.289]\n",
    "    - MIN_RAISE : [-0.0073, -0.0701, -0.0054, -0.049, -0.0693, -0.1152, -0.0705, -0.1853, -0.2538, 0.0209]\n",
    "    - DOUBLE_RAISE : [-0.0194, 0.0098, -0.0042, -0.0415, -0.0484, -0.1093, -0.101, -0.3763, -0.4836, 0.1194]\n",
    "    - TRIPLE_RAISE : [0.0137, -0.0455, -0.0336, 0.0259, -0.016, -0.1111, -0.249, -0.2106, -0.5518, -0.0316]\n",
    "    - MAX_RAISE : [0.0467, 0.0056, -0.0313, 0.0576, -0.0061, 0.0413, 0.1435, 0.322, 0.761, 0.5066]"
   ]
  },
  {
   "cell_type": "markdown",
   "metadata": {},
   "source": [
    "## QLearning\n",
    "training time : 210197s\n",
    "\n",
    "### Initial Value Transition\n",
    "<img src=\"./resource/multiple_round_trial_0103/binary_onehot/q_learning/initial_value_transition.png\" width=600 />\n",
    "\n",
    "### Round-Robin match\n",
    "| plot | hist |\n",
    "|------|------|\n",
    "|  <img src=\"./resource/multiple_round_trial_0103/binary_onehot/q_learning/2_round_3000_match_subplot_0106_12_53_26.png\"/> | <img src=\"./resource/multiple_round_trial_0103/binary_onehot/q_learning/2_round_3000_match_histgram_0106_12_53_26.png\" />|\n",
    "\n",
    "### Weights for Important Elements\n",
    "street\n",
    "    - FOLD : [-0.1583, -0.1351, -0.0803, -0.0906]\n",
    "    - CALL : [-0.6967, -0.8991, -1.0625, -1.0876]\n",
    "    - MIN_RAISE : [-0.0159, 0.0736, -0.2251, -0.4564]\n",
    "    - DOUBLE_RAISE : [-0.4294, -0.4709, -0.4361, -0.6717]\n",
    "    - TRIPLE_RAISE : [-0.5028, -0.4385, -0.6759, -0.6816]\n",
    "    - MAX_RAISE : [0.4175, 0.3068, 0.2295, 0.2774]\n",
    "cards\n",
    "    - FOLD : [0.0107, 0.0058, -0.0158, -0.0035, 0.0065, 0.0027, -0.0104, -0.0149, 0.0126, -0.0206]\n",
    "    - CALL : [-0.0433, -0.0431, 0.0359, -0.0098, -0.0291, -0.0174, 0.0469, -0.0011, 0.0516, 0.1454]\n",
    "    - MIN_RAISE : [0.0106, 0.0117, 0.0274, 0.0048, 0.0269, 0.0083, 0.0066, 0.0079, 0.0485, 0.0669]\n",
    "    - DOUBLE_RAISE : [0.0074, -0.0333, 0.0609, 0.0328, 0.0116, 0.0269, 0.076, -0.0434, 0.0593, 0.1746]\n",
    "    - TRIPLE_RAISE : [0.0126, 0.0063, 0.0454, 0.0075, -0.0117, -0.0066, 0.0479, -0.0035, -0.0638, 0.1014]\n",
    "    - MAX_RAISE : [-0.0172, -0.0458, -0.0183, 0.0434, -0.0102, 0.0559, 0.0216, 0.0633, 0.1922, 0.2714]\n",
    "pot\n",
    "    - FOLD : [0.0104, 0.0235, 0.0191, 0.0113, 0.0288, 0.0768, 0.1048, 0.1396, 0.2205, 0.4412]\n",
    "    - CALL : [0.0219, 0.0343, -0.0269, -0.0355, -0.0721, -0.0933, -0.1573, -0.1388, -0.2004, -0.0364]\n",
    "    - MIN_RAISE : [-0.025, 0.0099, -0.0339, -0.0719, -0.113, -0.27, -0.4615, -0.8217, -1.9373, -2.5455]\n",
    "    - DOUBLE_RAISE : [-0.0094, -0.0589, -0.1245, -0.1045, -0.1229, -0.2428, -0.767, -0.9506, -2.2585, -2.8347]\n",
    "    - TRIPLE_RAISE : [0.0716, -0.0237, -0.0734, -0.027, -0.1266, -0.2233, -0.6384, -0.9889, -2.211, -2.8701]\n",
    "    - MAX_RAISE : [-0.002, 0.0021, 0.0224, -0.0221, -0.0179, -0.1869, -0.0157, -0.0953, -0.2682, -0.9132]"
   ]
  },
  {
   "cell_type": "markdown",
   "metadata": {},
   "source": [
    "### Mixed Features Round-Robin"
   ]
  },
  {
   "cell_type": "markdown",
   "metadata": {},
   "source": [
    "| plot | hist |\n",
    "|------|------|\n",
    "|  <img src=\"./resource/multiple_round_trial_0103/2round/2_round_3000_match_subplot_0107_10_47_51.png\"/> | <img src=\"./resource/multiple_round_trial_0103/2round/2_round_3000_match_histgram_0107_10_47_51.png\" />|"
   ]
  },
  {
   "cell_type": "markdown",
   "metadata": {},
   "source": [
    "## Learning 5-round Poker by Sarsa"
   ]
  },
  {
   "cell_type": "markdown",
   "metadata": {},
   "source": [
    "### Scaled Scalar Features"
   ]
  },
  {
   "cell_type": "markdown",
   "metadata": {},
   "source": [
    "## Sarsa\n",
    "training time : 197551s\n",
    "\n",
    "### Initial Value Transition\n",
    "<img src=\"./resource/multiple_round_trial_0103/5round/scaled_scalar/sarsa/initial_value_transition.png\" width=600 />\n",
    "\n",
    "### Round-Robin match\n",
    "| plot | hist |\n",
    "|------|------|\n",
    "|  <img src=\"./resource/multiple_round_trial_0103/5round/scaled_scalar/sarsa/5_round_3000_match_subplot_0106_15_19_19.png\"/> | <img src=\"./resource/multiple_round_trial_0103/5round/scaled_scalar/sarsa/5_round_3000_match_histgram_0106_15_19_19.png\" />|\n",
    "\n",
    "### Weights for Important Elements\n",
    "street\n",
    "    - FOLD : -0.1623\n",
    "    - CALL : -0.7142\n",
    "    - MIN_RAISE : -0.1663\n",
    "    - DOUBLE_RAISE : -0.2345\n",
    "    - TRIPLE_RAISE : -0.0873\n",
    "    - MAX_RAISE : -0.1046\n",
    "cards\n",
    "    - FOLD : -0.0078\n",
    "    - CALL : 0.4565\n",
    "    - MIN_RAISE : -0.0022\n",
    "    - DOUBLE_RAISE : -0.0211\n",
    "    - TRIPLE_RAISE : -0.0253\n",
    "    - MAX_RAISE : -0.1042\n",
    "pot\n",
    "    - FOLD : -3.7476\n",
    "    - CALL : -4.7308\n",
    "    - MIN_RAISE : -1.3769\n",
    "    - DOUBLE_RAISE : -0.6497\n",
    "    - TRIPLE_RAISE : -1.735\n",
    "    - MAX_RAISE : -1.7915"
   ]
  },
  {
   "cell_type": "markdown",
   "metadata": {},
   "source": [
    "### Binary Onehot Features"
   ]
  },
  {
   "cell_type": "markdown",
   "metadata": {},
   "source": [
    "## Sarsa\n",
    "training time : 215097s\n",
    "\n",
    "### Initial Value Transition\n",
    "<img src=\"./resource/multiple_round_trial_0103/5round/binary_onehot/sarsa/initial_value_transition.png\" width=600 />\n",
    "\n",
    "### Round-Robin match\n",
    "| plot | hist |\n",
    "|------|------|\n",
    "|  <img src=\"./resource/multiple_round_trial_0103/5round/binary_onehot/sarsa/5_round_3000_match_subplot_0106_15_29_25.png\"/> | <img src=\"./resource/multiple_round_trial_0103/5round/binary_onehot/sarsa/5_round_3000_match_histgram_0106_15_29_25.png\" />|\n",
    "\n",
    "### Weights for Important Elements\n",
    "street\n",
    "    - FOLD : [-1.4447, -1.374, -1.2476, -1.288]\n",
    "    - CALL : [-0.2842, -0.3846, -0.3524, -0.4974]\n",
    "    - MIN_RAISE : [0.146, 0.0579, 0.1818, 0.1157]\n",
    "    - DOUBLE_RAISE : [-0.1515, -0.2114, -0.1818, 0.1973]\n",
    "    - TRIPLE_RAISE : [-0.0848, -0.0905, 0.1399, -0.0284]\n",
    "    - MAX_RAISE : [0.477, 0.4805, 0.6078, 0.4626]\n",
    "cards\n",
    "    - FOLD : [0.0022, -0.0128, 0.0231, -0.0166, 0.0126, -0.0041, 0.0173, 0.0077, -0.008, -0.0432]\n",
    "    - CALL : [-0.0139, -0.0801, 0.04, 0.0329, -0.0288, 0.0548, 0.0219, 0.0943, 0.0524, 0.2992]\n",
    "    - MIN_RAISE : [-0.0344, 0.001, 0.021, -0.0488, -0.0021, 0.0026, -0.0224, 0.0224, 0.0259, 0.1177]\n",
    "    - DOUBLE_RAISE : [-0.0302, -0.0754, -0.0072, 0.063, -0.0577, -0.0359, -0.0116, 0.0567, -0.063, 0.0509]\n",
    "    - TRIPLE_RAISE : [-0.0246, 0.0504, -0.0461, 0.0655, -0.0073, -0.1006, -0.0045, -0.0415, 0.021, 0.0776]\n",
    "    - MAX_RAISE : [0.0458, -0.0055, -0.0681, 0.0435, -0.0384, -0.0288, 0.0294, 0.1182, 0.237, 0.4882]\n",
    "pot\n",
    "    - FOLD : [0.0116, 0.0463, 0.0745, 0.1732, 0.3468, 0.6875, 1.3329, 2.6404, 5.3122, 10.6052]\n",
    "    - CALL : [-0.0662, 0.0151, -0.0519, -0.0367, 0.0021, -0.1945, -0.3356, -0.5779, -1.1042, -2.1879]\n",
    "    - MIN_RAISE : [0.0346, 0.003, -0.0474, -0.0859, -0.2759, -0.1949, -0.2234, -0.5295, -0.9308, -0.1831]\n",
    "    - DOUBLE_RAISE : [-0.0127, -0.0307, -0.019, -0.0681, -0.2222, -0.3379, -0.3962, -0.6418, -0.9785, -0.3583]\n",
    "    - TRIPLE_RAISE : [-0.0467, 0.0621, 0.0194, -0.0838, -0.205, -0.1431, -0.331, -0.4685, -0.9678, -0.2782]\n",
    "    - MAX_RAISE : [-0.018, -0.0755, -0.0515, 0.0104, 0.0779, 0.0039, 0.0723, 0.0358, -0.0643, 0.1287]"
   ]
  },
  {
   "cell_type": "markdown",
   "metadata": {},
   "source": [
    "### Mixed Features Round-Robin"
   ]
  },
  {
   "cell_type": "markdown",
   "metadata": {},
   "source": [
    "| plot | hist |\n",
    "|------|------|\n",
    "|  <img src=\"./resource/multiple_round_trial_0103/5round/5_round_3000_match_subplot_0106_16_11_56.png\"/> | <img src=\"./resource/multiple_round_trial_0103/5round/5_round_3000_match_histgram_0106_16_11_56.png\" />|"
   ]
  },
  {
   "cell_type": "markdown",
   "metadata": {},
   "source": [
    "# Round-Robin over different learning result"
   ]
  },
  {
   "cell_type": "markdown",
   "metadata": {
    "collapsed": true
   },
   "source": [
    "## Round-Robin with Scaled Scalar Features learning results\n",
    "\n",
    "### 1-round poker by 1,2,5-round poker training results\n",
    "| plot | hist |\n",
    "|------|------|\n",
    "|  <img src=\"./resource/multiple_round_trial_0103/scaled_scalar/1_round_3000_match_subplot_0106_16_24_27.png\"/> | <img src=\"./resource/multiple_round_trial_0103/scaled_scalar/1_round_3000_match_histgram_0106_16_24_27.png\" />|\n",
    "\n",
    "### 2-round poker by 1,2,5-round poker training results\n",
    "| plot | hist |\n",
    "|------|------|\n",
    "|  <img src=\"./resource/multiple_round_trial_0103/scaled_scalar/2_round_3000_match_subplot_0106_16_38_41.png\"/> | <img src=\"./resource/multiple_round_trial_0103/scaled_scalar/2_round_3000_match_histgram_0106_16_38_41.png\" />|\n",
    "\n",
    "### 5-round poker by 1,2,5-round poker training results\n",
    "| plot | hist |\n",
    "|------|------|\n",
    "|  <img src=\"./resource/multiple_round_trial_0103/scaled_scalar/5_round_3000_match_subplot_0106_17_20_56.png\"/> | <img src=\"./resource/multiple_round_trial_0103/scaled_scalar/5_round_3000_match_histgram_0106_17_20_56.png\" />|"
   ]
  },
  {
   "cell_type": "markdown",
   "metadata": {},
   "source": [
    "## Round-Robin with Binary Onehot Features learning results\n",
    "\n",
    "### 1-round poker by 1,2,5-round poker training results\n",
    "| plot | hist |\n",
    "|------|------|\n",
    "|  <img src=\"./resource/multiple_round_trial_0103/binary_onehot/1_round_3000_match_subplot_0106_16_27_31.png\"/> | <img src=\"./resource/multiple_round_trial_0103/binary_onehot/1_round_3000_match_histgram_0106_16_27_31.png\" />|\n",
    "\n",
    "### 2-round poker by 1,2,5-round poker training results\n",
    "| plot | hist |\n",
    "|------|------|\n",
    "|  <img src=\"./resource/multiple_round_trial_0103/binary_onehot/2_round_3000_match_subplot_0106_16_47_24.png\"/> | <img src=\"./resource/multiple_round_trial_0103/binary_onehot/2_round_3000_match_histgram_0106_16_47_24.png\" />|\n",
    "\n",
    "### 5-round poker by 1,2,5-round poker training results\n",
    "| plot | hist |\n",
    "|------|------|\n",
    "|  <img src=\"./resource/multiple_round_trial_0103/binary_onehot/5_round_3000_match_subplot_0106_17_25_54.png\"/> | <img src=\"./resource/multiple_round_trial_0103/binary_onehot/5_round_3000_match_histgram_0106_17_25_54.png\" />|"
   ]
  },
  {
   "cell_type": "markdown",
   "metadata": {},
   "source": [
    "## Round-Robin with Scaled Scalar & Binary Onehot Features learning results\n",
    "\n",
    "### 1-round poker by 1,2,5-round poker training results\n",
    "| plot | hist |\n",
    "|------|------|\n",
    "|  <img src=\"./resource/multiple_round_trial_0103/1_round_3000_match_subplot_0106_17_28_20.png\"/> | <img src=\"./resource/multiple_round_trial_0103/1_round_3000_match_histgram_0106_17_28_20.png\" />|\n",
    "\n",
    "### 2-round poker by 1,2,5-round poker training results\n",
    "| plot | hist |\n",
    "|------|------|\n",
    "|  <img src=\"./resource/multiple_round_trial_0103/2_round_3000_match_subplot_0106_17_42_26.png\"/> | <img src=\"./resource/multiple_round_trial_0103/2_round_3000_match_histgram_0106_17_42_26.png\" />|\n",
    "\n",
    "### 5-round poker by 1,2,5-round poker training results\n",
    "| plot | hist |\n",
    "|------|------|\n",
    "|  <img src=\"./resource/multiple_round_trial_0103/5_round_3000_match_subplot_0106_17_56_57.png\"/> | <img src=\"./resource/multiple_round_trial_0103/5_round_3000_match_histgram_0106_17_56_57.png\" />|"
   ]
  }
 ],
 "metadata": {
  "kernelspec": {
   "display_name": "Python 2",
   "language": "python",
   "name": "python2"
  },
  "language_info": {
   "codemirror_mode": {
    "name": "ipython",
    "version": 2
   },
   "file_extension": ".py",
   "mimetype": "text/x-python",
   "name": "python",
   "nbconvert_exporter": "python",
   "pygments_lexer": "ipython2",
   "version": "2.7.11"
  }
 },
 "nbformat": 4,
 "nbformat_minor": 0
}
