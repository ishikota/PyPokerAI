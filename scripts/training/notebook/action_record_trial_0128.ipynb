{
 "cells": [
  {
   "cell_type": "markdown",
   "metadata": {},
   "source": [
    "# Train by 1-hidden layer NeuralNet\n",
    "- algorithm : Sarsa\n",
    "- feature : scaled scalar features\n",
    "- final_round : 1,10\n",
    "- number of unit on hidden layer : 128 or 256\n",
    "- **action_record (tweaked.ver) on**\n",
    "- with relu activation function"
   ]
  },
  {
   "cell_type": "markdown",
   "metadata": {},
   "source": [
    "# 1 round\n",
    "- 3/4 results look good (trial4 was bud result)\n",
    "- 128 unit look better than 256unit"
   ]
  },
  {
   "cell_type": "markdown",
   "metadata": {},
   "source": [
    "## 128unit"
   ]
  },
  {
   "cell_type": "markdown",
   "metadata": {},
   "source": [
    "## Trial 1\n",
    "### Training Metrics\n",
    "\n",
    "| InitialValue | Loss |\n",
    "|------|------|\n",
    "| <img src=\"./resource/action_record_trial_0128/1round/trial1/initial_value_transition.png\" width=400 /> | <img src=\"./resource/action_record_trial_0128/1round/trial1/loss_history.png\" width=400 /> | \n",
    "\n",
    "### RoundRobin\n",
    "\n",
    "| plot | hist |\n",
    "|------|------|\n",
    "|  <img src=\"./resource/action_record_trial_0128/1round/trial1/1_round_3000_match_subplot_0128_11_41_56.png\"/> | <img src=\"./resource/action_record_trial_0128/1round/trial1/1_round_3000_match_histgram_0128_11_41_56.png\" />|\n",
    "\n",
    "#### with base_line player\n",
    "| plot | hist |\n",
    "|------|------|\n",
    "|  <img src=\"./resource/action_record_trial_0128/1round/trial1/1_round_3000_match_subplot_0128_12_36_20.png\"/> | <img src=\"./resource/action_record_trial_0128/1round/trial1/1_round_3000_match_histgram_0128_12_36_20.png\" />|"
   ]
  },
  {
   "cell_type": "markdown",
   "metadata": {},
   "source": [
    "## Trial 2\n",
    "### Training Metrics\n",
    "\n",
    "| InitialValue | Loss |\n",
    "|------|------|\n",
    "| <img src=\"./resource/action_record_trial_0128/1round/trial2/initial_value_transition.png\" width=400 /> | <img src=\"./resource/action_record_trial_0128/1round/trial2/loss_history.png\" width=400 /> | \n",
    "\n",
    "### RoundRobin\n",
    "\n",
    "| plot | hist |\n",
    "|------|------|\n",
    "|  <img src=\"./resource/action_record_trial_0128/1round/trial2/1_round_3000_match_subplot_0128_11_45_24.png\"/> | <img src=\"./resource/action_record_trial_0128/1round/trial2/1_round_3000_match_histgram_0128_11_45_24.png\" />|\n",
    "\n",
    "#### with base_line player\n",
    "| plot | hist |\n",
    "|------|------|\n",
    "|  <img src=\"./resource/action_record_trial_0128/1round/trial2/1_round_3000_match_subplot_0128_12_36_56.png\"/> | <img src=\"./resource/action_record_trial_0128/1round/trial2/1_round_3000_match_histgram_0128_12_36_56.png\" />|"
   ]
  },
  {
   "cell_type": "markdown",
   "metadata": {},
   "source": [
    "## 256unit"
   ]
  },
  {
   "cell_type": "markdown",
   "metadata": {},
   "source": [
    "## Trial 3\n",
    "### Training Metrics\n",
    "\n",
    "| InitialValue | Loss |\n",
    "|------|------|\n",
    "| <img src=\"./resource/action_record_trial_0128/1round/trial3/initial_value_transition.png\" width=400 /> | <img src=\"./resource/action_record_trial_0128/1round/trial3/loss_history.png\" width=400 /> | \n",
    "\n",
    "### RoundRobin\n",
    "\n",
    "| plot | hist |\n",
    "|------|------|\n",
    "|  <img src=\"./resource/action_record_trial_0128/1round/trial3/1_round_3000_match_subplot_0128_11_48_25.png\"/> | <img src=\"./resource/action_record_trial_0128/1round/trial3/1_round_3000_match_histgram_0128_11_48_25.png\" />|\n",
    "\n",
    "#### with base_line player\n",
    "| plot | hist |\n",
    "|------|------|\n",
    "|  <img src=\"./resource/action_record_trial_0128/1round/trial3/1_round_3000_match_subplot_0128_12_37_29.png\"/> | <img src=\"./resource/action_record_trial_0128/1round/trial3/1_round_3000_match_histgram_0128_12_37_29.png\" />|"
   ]
  },
  {
   "cell_type": "markdown",
   "metadata": {},
   "source": [
    "## Trial 4\n",
    "### Training Metrics\n",
    "\n",
    "| InitialValue | Loss |\n",
    "|------|------|\n",
    "| <img src=\"./resource/action_record_trial_0128/1round/trial4/initial_value_transition.png\" width=400 /> | <img src=\"./resource/action_record_trial_0128/1round/trial4/loss_history.png\" width=400 /> | \n",
    "\n",
    "### RoundRobin\n",
    "\n",
    "| plot | hist |\n",
    "|------|------|\n",
    "|  <img src=\"./resource/action_record_trial_0128/1round/trial4/1_round_3000_match_subplot_0128_11_51_02.png\"/> | <img src=\"./resource/action_record_trial_0128/1round/trial4/1_round_3000_match_histgram_0128_11_51_02.png\" />|\n",
    "\n",
    "#### with base_line player\n",
    "| plot | hist |\n",
    "|------|------|\n",
    "|  <img src=\"./resource/action_record_trial_0128/1round/trial4/1_round_3000_match_subplot_0128_12_37_59.png\"/> | <img src=\"./resource/action_record_trial_0128/1round/trial4/1_round_3000_match_histgram_0128_12_37_59.png\" />|\n"
   ]
  },
  {
   "cell_type": "markdown",
   "metadata": {},
   "source": [
    "# 10 round\n",
    "- 3/4 results look good (trial4 was bud result)\n",
    "- 128 unit look better than 256unit"
   ]
  },
  {
   "cell_type": "markdown",
   "metadata": {},
   "source": [
    "## 128 unit\n",
    "### Training Metrics\n",
    "\n",
    "| InitialValue | Loss |\n",
    "|------|------|\n",
    "| <img src=\"./resource/action_record_trial_0128/10round/trial1/initial_value_transition.png\" width=400 /> | <img src=\"./resource/action_record_trial_0128/10round/trial1/loss_history.png\" width=400 /> | \n",
    "\n",
    "### RoundRobin\n",
    "\n",
    "| plot | hist |\n",
    "|------|------|\n",
    "|  <img src=\"./resource/action_record_trial_0128/10round/trial1/10_round_3000_match_subplot_0128_22_25_09.png\"/> | <img src=\"./resource/action_record_trial_0128/10round/trial1/10_round_3000_match_histgram_0128_22_25_09.png\" />|\n",
    "\n",
    "#### with base_line player\n",
    "| plot | hist |\n",
    "|------|------|\n",
    "|  <img src=\"./resource/action_record_trial_0128/10round/trial1/1_round_3000_match_subplot_0128_23_17_28.png\"/> | <img src=\"./resource/action_record_trial_0128/10round/trial1/1_round_3000_match_histgram_0128_23_17_28.png\" />|"
   ]
  },
  {
   "cell_type": "markdown",
   "metadata": {},
   "source": [
    "## 256 unit\n",
    "### Training Metrics\n",
    "\n",
    "| InitialValue | Loss |\n",
    "|------|------|\n",
    "| <img src=\"./resource/action_record_trial_0128/10round/trial2/initial_value_transition.png\" width=400 /> | <img src=\"./resource/action_record_trial_0128/10round/trial2/loss_history.png\" width=400 /> | \n",
    "\n",
    "### RoundRobin\n",
    "\n",
    "| plot | hist |\n",
    "|------|------|\n",
    "|  <img src=\"./resource/action_record_trial_0128/10round/trial2/10_round_3000_match_subplot_0128_22_29_04.png\"/> | <img src=\"./resource/action_record_trial_0128/10round/trial2/10_round_3000_match_histgram_0128_22_29_04.png\" />|\n",
    "\n",
    "#### with base_line player\n",
    "| plot | hist |\n",
    "|------|------|\n",
    "|  <img src=\"./resource/action_record_trial_0128/10round/trial2/1_round_3000_match_subplot_0128_23_17_57.png\"/> | <img src=\"./resource/action_record_trial_0128/10round/trial2/1_round_3000_match_histgram_0128_23_17_57.png\" />|"
   ]
  }
 ],
 "metadata": {
  "kernelspec": {
   "display_name": "Python 2",
   "language": "python",
   "name": "python2"
  },
  "language_info": {
   "codemirror_mode": {
    "name": "ipython",
    "version": 2
   },
   "file_extension": ".py",
   "mimetype": "text/x-python",
   "name": "python",
   "nbconvert_exporter": "python",
   "pygments_lexer": "ipython2",
   "version": "2.7.11"
  }
 },
 "nbformat": 4,
 "nbformat_minor": 0
}
