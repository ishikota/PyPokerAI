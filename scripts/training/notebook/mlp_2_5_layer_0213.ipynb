{
 "cells": [
  {
   "cell_type": "markdown",
   "metadata": {},
   "source": [
    "# 50 round"
   ]
  },
  {
   "cell_type": "markdown",
   "metadata": {},
   "source": [
    "## 2layer"
   ]
  },
  {
   "cell_type": "markdown",
   "metadata": {},
   "source": [
    "## Trial 1\n",
    "### Training Metrics\n",
    "\n",
    "| InitialValue | Loss |\n",
    "|------|------|\n",
    "| <img src=\"./resource/mlp_2_5_layer/50round/2layer/trial1/initial_value_transition.png\" width=400 /> | <img src=\"./resource/mlp_2_5_layer/50round/2layer/trial1/loss_history.png\" width=400 /> | \n",
    "\n",
    "### RoundRobin\n",
    "\n",
    "| plot | hist |\n",
    "|------|------|\n",
    "|  <img src=\"./resource/mlp_2_5_layer/50round/2layer/trial1/50_round_3000_match_subplot_0213_10_59_52.png\"/> | <img src=\"./resource/mlp_2_5_layer/50round/2layer/trial1/50_round_3000_match_histgram_0213_10_59_52.png\" />|\n",
    "\n",
    "#### with base_line player\n",
    "| plot | hist |\n",
    "|------|------|\n",
    "|  <img src=\"./resource/mlp_2_5_layer/50round/2layer/trial1/50_round_3000_match_subplot_0213_17_53_47.png\"/> | <img src=\"./resource/mlp_2_5_layer/50round/2layer/trial1/50_round_3000_match_histgram_0213_17_53_47.png\" />|"
   ]
  },
  {
   "cell_type": "markdown",
   "metadata": {},
   "source": [
    "## 5layer"
   ]
  },
  {
   "cell_type": "markdown",
   "metadata": {},
   "source": [
    "## Trial 1\n",
    "### Training Metrics\n",
    "\n",
    "| InitialValue | Loss |\n",
    "|------|------|\n",
    "| <img src=\"./resource/mlp_2_5_layer/50round/5layer/trial1/initial_value_transition.png\" width=400 /> | <img src=\"./resource/mlp_2_5_layer/50round/5layer/trial1/loss_history.png\" width=400 /> | \n",
    "\n",
    "### RoundRobin\n",
    "\n",
    "| plot | hist |\n",
    "|------|------|\n",
    "|  <img src=\"./resource/mlp_2_5_layer/50round/5layer/trial1/50_round_3000_match_subplot_0213_11_08_14.png\"/> | <img src=\"./resource/mlp_2_5_layer/50round/5layer/trial1/50_round_3000_match_histgram_0213_11_08_14.png\" />|\n",
    "\n",
    "#### with base_line player\n",
    "| plot | hist |\n",
    "|------|------|\n",
    "|  <img src=\"./resource/mlp_2_5_layer/50round/5layer/trial1/50_round_3000_match_subplot_0213_17_56_13.png\"/> | <img src=\"./resource/mlp_2_5_layer/50round/5layer/trial1/50_round_3000_match_histgram_0213_17_56_13.png\" />|"
   ]
  },
  {
   "cell_type": "markdown",
   "metadata": {},
   "source": [
    "## Trial 2\n",
    "### Training Metrics\n",
    "\n",
    "| InitialValue | Loss |\n",
    "|------|------|\n",
    "| <img src=\"./resource/mlp_2_5_layer/50round/5layer/trial2/initial_value_transition.png\" width=400 /> | <img src=\"./resource/mlp_2_5_layer/50round/5layer/trial2/loss_history.png\" width=400 /> | \n",
    "\n",
    "### RoundRobin\n",
    "\n",
    "| plot | hist |\n",
    "|------|------|\n",
    "|  <img src=\"./resource/mlp_2_5_layer/50round/5layer/trial2/50_round_3000_match_subplot_0213_11_11_17.png\"/> | <img src=\"./resource/mlp_2_5_layer/50round/5layer/trial2/50_round_3000_match_histgram_0213_11_11_17.png\" />|\n",
    "\n",
    "#### with base_line player\n",
    "| plot | hist |\n",
    "|------|------|\n",
    "|  <img src=\"./resource/mlp_2_5_layer/50round/5layer/trial2/50_round_3000_match_subplot_0213_17_59_33.png\"/> | <img src=\"./resource/mlp_2_5_layer/50round/5layer/trial2/50_round_3000_match_histgram_0213_17_59_33.png\" />|"
   ]
  },
  {
   "cell_type": "markdown",
   "metadata": {},
   "source": [
    "## Trial 3\n",
    "### Training Metrics\n",
    "\n",
    "| InitialValue | Loss |\n",
    "|------|------|\n",
    "| <img src=\"./resource/mlp_2_5_layer/50round/5layer/trial3/initial_value_transition.png\" width=400 /> | <img src=\"./resource/mlp_2_5_layer/50round/5layer/trial3/loss_history.png\" width=400 /> | \n",
    "\n",
    "### RoundRobin\n",
    "\n",
    "| plot | hist |\n",
    "|------|------|\n",
    "|  <img src=\"./resource/mlp_2_5_layer/50round/5layer/trial3/50_round_3000_match_subplot_0213_11_14_25.png\"/> | <img src=\"./resource/mlp_2_5_layer/50round/5layer/trial3/50_round_3000_match_histgram_0213_11_14_25.png\" />|\n",
    "\n",
    "#### with base_line player\n",
    "| plot | hist |\n",
    "|------|------|\n",
    "|  <img src=\"./resource/mlp_2_5_layer/50round/5layer/trial3/50_round_3000_match_subplot_0213_18_02_24.png\"/> | <img src=\"./resource/mlp_2_5_layer/50round/5layer/trial3/50_round_3000_match_histgram_0213_18_02_24.png\" />|"
   ]
  },
  {
   "cell_type": "markdown",
   "metadata": {},
   "source": [
    "## Max Round"
   ]
  },
  {
   "cell_type": "markdown",
   "metadata": {},
   "source": [
    "## 2 layer"
   ]
  },
  {
   "cell_type": "markdown",
   "metadata": {},
   "source": [
    "## Trial 1\n",
    "### Training Metrics\n",
    "\n",
    "| InitialValue | Loss |\n",
    "|------|------|\n",
    "| <img src=\"./resource/mlp_2_5_layer/max_round/2layer/trial1/initial_value_transition.png\" width=400 /> | <img src=\"./resource/mlp_2_5_layer/max_round/2layer/trial1/loss_history.png\" width=400 /> | \n",
    "\n",
    "### RoundRobin\n",
    "\n",
    "| plot | hist |\n",
    "|------|------|\n",
    "|  <img src=\"./resource/mlp_2_5_layer/max_round/2layer/trial1/1000_round_3000_match_subplot_0213_11_18_15.png\"/> | <img src=\"./resource/mlp_2_5_layer/max_round/2layer/trial1/1000_round_3000_match_histgram_0213_11_18_15.png\" />|\n",
    "\n",
    "#### with base_line player\n",
    "| plot | hist |\n",
    "|------|------|\n",
    "|  <img src=\"./resource/mlp_2_5_layer/max_round/2layer/trial1/1_round_3000_match_subplot_0128_12_36_20.png\"/> | <img src=\"./resource/mlp_2_5_layer/max_round/2layer/trial1/1_round_3000_match_histgram_0128_12_36_20.png\" />|"
   ]
  },
  {
   "cell_type": "markdown",
   "metadata": {},
   "source": [
    "## 5 layer"
   ]
  },
  {
   "cell_type": "markdown",
   "metadata": {},
   "source": [
    "## Trial 1\n",
    "### Training Metrics\n",
    "\n",
    "| InitialValue | Loss |\n",
    "|------|------|\n",
    "| <img src=\"./resource/mlp_2_5_layer/max_round/5layer/trial1/initial_value_transition.png\" width=400 /> | <img src=\"./resource/mlp_2_5_layer/max_round/5layer/trial1/loss_history.png\" width=400 /> | \n",
    "\n",
    "### RoundRobin\n",
    "\n",
    "| plot | hist |\n",
    "|------|------|\n",
    "|  <img src=\"./resource/mlp_2_5_layer/max_round/5layer/trial1/1000_round_3000_match_subplot_0213_11_23_44.png\"/> | <img src=\"./resource/mlp_2_5_layer/max_round/5layer/trial1/1000_round_3000_match_histgram_0213_11_23_44.png\" />|\n",
    "\n",
    "#### with base_line player\n",
    "| plot | hist |\n",
    "|------|------|\n",
    "|  <img src=\"./resource/mlp_2_5_layer/max_round/5layer/trial1/1_round_3000_match_subplot_0128_12_36_20.png\"/> | <img src=\"./resource/mlp_2_5_layer/max_round/5layer/trial1/1_round_3000_match_histgram_0128_12_36_20.png\" />|"
   ]
  },
  {
   "cell_type": "markdown",
   "metadata": {},
   "source": [
    "## Trial 2\n",
    "### Training Metrics\n",
    "\n",
    "| InitialValue | Loss |\n",
    "|------|------|\n",
    "| <img src=\"./resource/mlp_2_5_layer/max_round/5layer/trial2/initial_value_transition.png\" width=400 /> | <img src=\"./resource/mlp_2_5_layer/max_round/5layer/trial2/loss_history.png\" width=400 /> | \n",
    "\n",
    "### RoundRobin\n",
    "\n",
    "| plot | hist |\n",
    "|------|------|\n",
    "|  <img src=\"./resource/mlp_2_5_layer/max_round/5layer/trial2/1000_round_3000_match_subplot_0213_11_27_05.png\"/> | <img src=\"./resource/mlp_2_5_layer/max_round/5layer/trial2/1000_round_3000_match_histgram_0213_11_27_05.png\" />|\n",
    "\n",
    "#### with base_line player\n",
    "| plot | hist |\n",
    "|------|------|\n",
    "|  <img src=\"./resource/mlp_2_5_layer/max_round/5layer/trial2/1_round_3000_match_subplot_0128_12_36_20.png\"/> | <img src=\"./resource/mlp_2_5_layer/max_round/5layer/trial2/1_round_3000_match_histgram_0128_12_36_20.png\" />|"
   ]
  },
  {
   "cell_type": "markdown",
   "metadata": {},
   "source": [
    "## Trial 3\n",
    "### Training Metrics\n",
    "\n",
    "| InitialValue | Loss |\n",
    "|------|------|\n",
    "| <img src=\"./resource/mlp_2_5_layer/max_round/5layer/trial3/initial_value_transition.png\" width=400 /> | <img src=\"./resource/mlp_2_5_layer/max_round/5layer/trial3/loss_history.png\" width=400 /> | \n",
    "\n",
    "### RoundRobin\n",
    "\n",
    "| plot | hist |\n",
    "|------|------|\n",
    "|  <img src=\"./resource/mlp_2_5_layer/max_round/5layer/trial3/1000_round_3000_match_subplot_0213_11_31_07.png\"/> | <img src=\"./resource/mlp_2_5_layer/max_round/5layer/trial3/1000_round_3000_match_histgram_0213_11_31_07.png\" />|\n",
    "\n",
    "#### with base_line player\n",
    "| plot | hist |\n",
    "|------|------|\n",
    "|  <img src=\"./resource/mlp_2_5_layer/max_round/5layer/trial3/1_round_3000_match_subplot_0128_12_36_20.png\"/> | <img src=\"./resource/mlp_2_5_layer/max_round/5layer/trial3/1_round_3000_match_histgram_0128_12_36_20.png\" />|"
   ]
  }
 ],
 "metadata": {
  "kernelspec": {
   "display_name": "Python 2",
   "language": "python",
   "name": "python2"
  },
  "language_info": {
   "codemirror_mode": {
    "name": "ipython",
    "version": 2
   },
   "file_extension": ".py",
   "mimetype": "text/x-python",
   "name": "python",
   "nbconvert_exporter": "python",
   "pygments_lexer": "ipython2",
   "version": "2.7.11"
  }
 },
 "nbformat": 4,
 "nbformat_minor": 0
}
