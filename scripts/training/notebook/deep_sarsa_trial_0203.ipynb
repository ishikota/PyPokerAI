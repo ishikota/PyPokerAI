{
 "cells": [
  {
   "cell_type": "markdown",
   "metadata": {},
   "source": [
    "# Integrate ExperienceReplay with Sarsa\n",
    "- algorithm : Sarsa\n",
    "- feature : scaled scalar features with action record\n",
    "- final_round : 1,10, 50\n",
    "- number of unit on hidden layer : 128"
   ]
  },
  {
   "cell_type": "markdown",
   "metadata": {},
   "source": [
    "# 1round"
   ]
  },
  {
   "cell_type": "markdown",
   "metadata": {},
   "source": [
    "## Trial 1\n",
    "### Training Metrics\n",
    "\n",
    "| InitialValue | Loss |\n",
    "|------|------|\n",
    "| <img src=\"./resource/deep_sarsa_trial_0203/1round/trial1/initial_value_transition.png\" width=400 /> | <img src=\"./resource/deep_sarsa_trial_0203/1round/trial1/loss_history.png\" width=400 /> | \n",
    "\n",
    "### RoundRobin\n",
    "\n",
    "| plot | hist |\n",
    "|------|------|\n",
    "|  <img src=\"./resource/deep_sarsa_trial_0203/1round/trial1/1_round_3000_match_subplot_0203_20_34_04.png\"/> | <img src=\"./resource/deep_sarsa_trial_0203/1round/trial1/1_round_3000_match_histgram_0203_20_34_04.png\" />|\n",
    "\n",
    "#### with base_line player\n",
    "| plot | hist |\n",
    "|------|------|\n",
    "|  <img src=\"./resource/deep_sarsa_trial_0203/1round/trial1/1_round_3000_match_subplot_0204_09_21_58.png\"/> | <img src=\"./resource/deep_sarsa_trial_0203/1round/trial1/1_round_3000_match_histgram_0204_09_21_58.png\" />|"
   ]
  },
  {
   "cell_type": "markdown",
   "metadata": {},
   "source": [
    "## Trial 2\n",
    "### Training Metrics\n",
    "missing\n",
    "\n",
    "### RoundRobin\n",
    "\n",
    "| plot | hist |\n",
    "|------|------|\n",
    "|  <img src=\"./resource/deep_sarsa_trial_0203/1round/trial2/1_round_3000_match_subplot_0203_20_45_41.png\"/> | <img src=\"./resource/deep_sarsa_trial_0203/1round/trial2/1_round_3000_match_histgram_0203_20_45_41.png\" />|\n",
    "\n",
    "#### with base_line player\n",
    "| plot | hist |\n",
    "|------|------|\n",
    "|  <img src=\"./resource/deep_sarsa_trial_0203/1round/trial2/1_round_3000_match_subplot_0204_09_22_35.png\"/> | <img src=\"./resource/deep_sarsa_trial_0203/1round/trial2/1_round_3000_match_histgram_0204_09_22_35.png\" />|"
   ]
  },
  {
   "cell_type": "markdown",
   "metadata": {
    "collapsed": true
   },
   "source": [
    "# 10round"
   ]
  },
  {
   "cell_type": "markdown",
   "metadata": {},
   "source": [
    "## Trial 1\n",
    "### Training Metrics\n",
    "\n",
    "| InitialValue | Loss |\n",
    "|------|------|\n",
    "| <img src=\"./resource/deep_sarsa_trial_0203/10round/trial1/initial_value_transition.png\" width=400 /> | <img src=\"./resource/deep_sarsa_trial_0203/10round/trial1/loss_history.png\" width=400 /> | \n",
    "\n",
    "### RoundRobin\n",
    "- ~900000 round, with base line player\n",
    "\n",
    "| plot | hist |\n",
    "|------|------|\n",
    "|  <img src=\"./resource/deep_sarsa_trial_0203/10round/trial1/10_round_3000_match_subplot_0215_09_35_31.png\"/> | <img src=\"./resource/deep_sarsa_trial_0203/10round/trial1/10_round_3000_match_histgram_0215_09_35_31.png\" />|"
   ]
  },
  {
   "cell_type": "markdown",
   "metadata": {},
   "source": [
    "## Trial 2\n",
    "### RoundRobin\n",
    "- ~850000 round, with base line player\n",
    "\n",
    "| plot | hist |\n",
    "|------|------|\n",
    "|  <img src=\"./resource/deep_sarsa_trial_0203/10round/trial2/10_round_3000_match_subplot_0215_09_41_13.png\"/> | <img src=\"./resource/deep_sarsa_trial_0203/10round/trial2/10_round_3000_match_histgram_0215_09_41_13.png\" />|"
   ]
  },
  {
   "cell_type": "markdown",
   "metadata": {},
   "source": [
    "# 50round"
   ]
  },
  {
   "cell_type": "markdown",
   "metadata": {},
   "source": [
    "## Trial 1\n",
    "### Training Metrics\n",
    "\n",
    "| InitialValue | Loss |\n",
    "|------|------|\n",
    "| <img src=\"./resource/deep_sarsa_trial_0203/50round/trial1/initial_value_transition.png\" width=400 /> | <img src=\"./resource/deep_sarsa_trial_0203/50round/trial1/loss_history.png\" width=400 /> | \n",
    "\n",
    "### RoundRobin\n",
    "\n",
    "| plot | hist |\n",
    "|------|------|\n",
    "|  <img src=\"./resource/deep_sarsa_trial_0203/50round/trial1/1_round_3000_match_subplot_0215_09_49_26.png\"/> | <img src=\"./resource/deep_sarsa_trial_0203/50round/trial1/1_round_3000_match_histgram_0215_09_49_26.png\" />|"
   ]
  },
  {
   "cell_type": "code",
   "execution_count": null,
   "metadata": {
    "collapsed": true
   },
   "outputs": [],
   "source": []
  }
 ],
 "metadata": {
  "kernelspec": {
   "display_name": "Python 2",
   "language": "python",
   "name": "python2"
  },
  "language_info": {
   "codemirror_mode": {
    "name": "ipython",
    "version": 2
   },
   "file_extension": ".py",
   "mimetype": "text/x-python",
   "name": "python",
   "nbconvert_exporter": "python",
   "pygments_lexer": "ipython2",
   "version": "2.7.11"
  }
 },
 "nbformat": 4,
 "nbformat_minor": 0
}
