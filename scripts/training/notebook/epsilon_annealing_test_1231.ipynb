{
 "cells": [
  {
   "cell_type": "markdown",
   "metadata": {},
   "source": [
    "# EpsilonAnnealing test\n",
    "- algorithm : MonteCarlo\n",
    "- training length = 1000000\n",
    "- annealing types\n",
    "    1. short : annealing range = [0.99,0.1], annealing length = [100000]\n",
    "    2. middle : annealing range = [0.99,0.1], annealing length = [500000]\n",
    "    3. long : annealing range = [0.99,0.1], annealing length = [1000000]\n",
    "- target game\n",
    "    - 1-round poker\n",
    "    - 2-round poker\n",
    "    \n",
    "**Conclusion**\n",
    "- it seems that **long annealing** would be better. Especially, long-round game."
   ]
  },
  {
   "cell_type": "markdown",
   "metadata": {},
   "source": [
    "##  1-round poker"
   ]
  },
  {
   "cell_type": "markdown",
   "metadata": {},
   "source": [
    "### annealing type = short\n",
    "training time = 33696s"
   ]
  },
  {
   "cell_type": "markdown",
   "metadata": {},
   "source": [
    "#### Initial value transition\n",
    "<img src=\"./resource/epsilon_annaling_test_1231/1round/short/initial_value_transition.png\" width=600/>"
   ]
  },
  {
   "cell_type": "markdown",
   "metadata": {},
   "source": [
    "#### Round-robin match\n",
    "<img src=\"./resource/epsilon_annaling_test_1231/1round/short/1_round_3000_match_subplot_1231_09_23_29.png\" width=600/>\n",
    "<img src=\"./resource/epsilon_annaling_test_1231/1round/short/1_round_3000_match_histgram_1231_09_23_29.png\" width=600/>"
   ]
  },
  {
   "cell_type": "markdown",
   "metadata": {},
   "source": [
    "#### Weights"
   ]
  },
  {
   "cell_type": "raw",
   "metadata": {},
   "source": [
    "****************************************\n",
    "After 1000000 iteration\n",
    "****************************************\n",
    "round count\n",
    "  FOLD : -0.0569\n",
    "  CALL : -0.0581\n",
    "  MIN_RAISE : -0.2295\n",
    "  DOUBLE_RAISE : 0.1122\n",
    "  TRIPLE_RAISE : 0.3207\n",
    "  MAX_RAISE : 0.3784\n",
    "dealer button\n",
    "  FOLD : -0.0819\n",
    "  CALL : -0.113\n",
    "  MIN_RAISE : 0.2981\n",
    "  DOUBLE_RAISE : 0.258\n",
    "  TRIPLE_RAISE : -0.2619\n",
    "  MAX_RAISE : 0.2815\n",
    "street\n",
    "  FOLD : 0.2995\n",
    "  CALL : -0.1877\n",
    "  MIN_RAISE : -0.1035\n",
    "  DOUBLE_RAISE : 0.147\n",
    "  TRIPLE_RAISE : 0.2147\n",
    "  MAX_RAISE : -0.3138\n",
    "cards\n",
    "  FOLD : 0.0\n",
    "  CALL : 1.6063\n",
    "  MIN_RAISE : 0.3162\n",
    "  DOUBLE_RAISE : 0.326\n",
    "  TRIPLE_RAISE : 0.2725\n",
    "  MAX_RAISE : -0.1659\n",
    "pot\n",
    "  FOLD : -0.1948\n",
    "  CALL : 0.338\n",
    "  MIN_RAISE : -0.3705\n",
    "  DOUBLE_RAISE : -0.3557\n",
    "  TRIPLE_RAISE : -0.2977\n",
    "  MAX_RAISE : 0.2529\n",
    "seats\n",
    "    player 0\n",
    "      stack : {'DOUBLE_RAISE': 0.0822, 'TRIPLE_RAISE': 0.2359, 'MAX_RAISE': -0.2258, 'FOLD': -0.0154, 'MIN_RAISE': 0.3267, 'CALL': 0.1156}\n",
    "      state : {'DOUBLE_RAISE': 0.1021, 'TRIPLE_RAISE': 0.1499, 'MAX_RAISE': 0.3757, 'FOLD': 0.0266, 'MIN_RAISE': 0.153, 'CALL': -0.1361}\n",
    "      history(paid sum) : {'DOUBLE_RAISE': 0.377, 'TRIPLE_RAISE': 0.2037, 'MAX_RAISE': -0.3165, 'FOLD': -0.2251, 'MIN_RAISE': 0.0583, 'CALL': -0.139}\n",
    "    player 1\n",
    "      stack : {'DOUBLE_RAISE': -0.0312, 'TRIPLE_RAISE': 0.3717, 'MAX_RAISE': -0.1212, 'FOLD': 0.2767, 'MIN_RAISE': 0.3095, 'CALL': -0.2304}\n",
    "      state : {'DOUBLE_RAISE': -0.0551, 'TRIPLE_RAISE': -0.2239, 'MAX_RAISE': 0.2519, 'FOLD': -0.0327, 'MIN_RAISE': 0.3218, 'CALL': -0.2267}\n",
    "      history(paid sum) : {'DOUBLE_RAISE': -0.1595, 'TRIPLE_RAISE': 0.1668, 'MAX_RAISE': 0.2438, 'FOLD': -0.0896, 'MIN_RAISE': -0.0427, 'CALL': -0.3433}\n",
    "    player 2\n",
    "      stack : {'DOUBLE_RAISE': 0.2532, 'TRIPLE_RAISE': 0.335, 'MAX_RAISE': 0.3278, 'FOLD': -0.1342, 'MIN_RAISE': 0.1031, 'CALL': -0.245}\n",
    "      state : {'DOUBLE_RAISE': -0.3334, 'TRIPLE_RAISE': -0.1917, 'MAX_RAISE': 0.1887, 'FOLD': 0.2013, 'MIN_RAISE': -0.1678, 'CALL': -0.0525}\n",
    "      history(paid sum) : {'DOUBLE_RAISE': 0.0726, 'TRIPLE_RAISE': 0.1997, 'MAX_RAISE': -0.1296, 'FOLD': -0.0748, 'MIN_RAISE': 0.3507, 'CALL': -0.0143}\n",
    "    player 3\n",
    "      stack : {'DOUBLE_RAISE': 0.3589, 'TRIPLE_RAISE': -0.1631, 'MAX_RAISE': -0.0101, 'FOLD': -0.1472, 'MIN_RAISE': 0.3561, 'CALL': -0.0793}\n",
    "      state : {'DOUBLE_RAISE': 0.198, 'TRIPLE_RAISE': -0.0786, 'MAX_RAISE': 0.369, 'FOLD': -0.1276, 'MIN_RAISE': -0.0644, 'CALL': -0.3351}\n",
    "      history(paid sum) : {'DOUBLE_RAISE': -0.2018, 'TRIPLE_RAISE': 0.2514, 'MAX_RAISE': -0.3525, 'FOLD': 0.2047, 'MIN_RAISE': 0.3504, 'CALL': 0.058}\n",
    "    player 4\n",
    "      stack : {'DOUBLE_RAISE': -0.2498, 'TRIPLE_RAISE': -0.2583, 'MAX_RAISE': -0.361, 'FOLD': 0.417, 'MIN_RAISE': 0.3113, 'CALL': 0.1371}\n",
    "      state : {'DOUBLE_RAISE': -0.0263, 'TRIPLE_RAISE': -0.3024, 'MAX_RAISE': 0.2969, 'FOLD': 0.2068, 'MIN_RAISE': -0.2766, 'CALL': 0.2775}\n",
    "      history(paid sum) : {'DOUBLE_RAISE': 0.3361, 'TRIPLE_RAISE': -0.2561, 'MAX_RAISE': 0.1995, 'FOLD': -0.3471, 'MIN_RAISE': -0.1285, 'CALL': 0.2993}\n",
    "    player 5\n",
    "      stack : {'DOUBLE_RAISE': 0.214, 'TRIPLE_RAISE': -0.0833, 'MAX_RAISE': 0.309, 'FOLD': -0.2922, 'MIN_RAISE': -0.2643, 'CALL': -0.4009}\n",
    "      state : {'DOUBLE_RAISE': -0.1962, 'TRIPLE_RAISE': 0.0671, 'MAX_RAISE': 0.3176, 'FOLD': -0.298, 'MIN_RAISE': -0.2952, 'CALL': -0.3881}\n",
    "      history(paid sum) : {'DOUBLE_RAISE': -0.0107, 'TRIPLE_RAISE': 0.0573, 'MAX_RAISE': 0.3657, 'FOLD': 0.0679, 'MIN_RAISE': 0.3819, 'CALL': -0.1985}\n",
    "    player 6\n",
    "      stack : {'DOUBLE_RAISE': -0.379, 'TRIPLE_RAISE': 0.2462, 'MAX_RAISE': -0.2062, 'FOLD': -0.0911, 'MIN_RAISE': -0.3241, 'CALL': 0.0791}\n",
    "      state : {'DOUBLE_RAISE': 0.116, 'TRIPLE_RAISE': -0.1653, 'MAX_RAISE': 0.3795, 'FOLD': -0.0023, 'MIN_RAISE': -0.1078, 'CALL': 0.2003}\n",
    "      history(paid sum) : {'DOUBLE_RAISE': 0.1025, 'TRIPLE_RAISE': -0.3796, 'MAX_RAISE': -0.0477, 'FOLD': 0.0671, 'MIN_RAISE': 0.2224, 'CALL': 0.1421}\n",
    "    player 7\n",
    "      stack : {'DOUBLE_RAISE': 0.112, 'TRIPLE_RAISE': -0.0519, 'MAX_RAISE': 0.1881, 'FOLD': -0.2485, 'MIN_RAISE': 0.1625, 'CALL': 0.1522}\n",
    "      state : {'DOUBLE_RAISE': -0.2241, 'TRIPLE_RAISE': -0.3422, 'MAX_RAISE': -0.1606, 'FOLD': -0.1325, 'MIN_RAISE': -0.0047, 'CALL': -0.3789}\n",
    "      history(paid sum) : {'DOUBLE_RAISE': 0.2306, 'TRIPLE_RAISE': -0.3571, 'MAX_RAISE': -0.0798, 'FOLD': 0.2716, 'MIN_RAISE': 0.1619, 'CALL': -0.36}\n",
    "    player 8\n",
    "      stack : {'DOUBLE_RAISE': 0.0977, 'TRIPLE_RAISE': -0.3724, 'MAX_RAISE': -0.3762, 'FOLD': 0.3241, 'MIN_RAISE': -0.235, 'CALL': -0.309}\n",
    "      state : {'DOUBLE_RAISE': 0.3546, 'TRIPLE_RAISE': -0.3031, 'MAX_RAISE': 0.3813, 'FOLD': 0.1438, 'MIN_RAISE': -0.2026, 'CALL': -0.2939}\n",
    "      history(paid sum) : {'DOUBLE_RAISE': -0.1012, 'TRIPLE_RAISE': -0.0091, 'MAX_RAISE': -0.0267, 'FOLD': 0.0855, 'MIN_RAISE': 0.3115, 'CALL': -0.4954}\n",
    "    player 9\n",
    "      stack : {'DOUBLE_RAISE': -0.3011, 'TRIPLE_RAISE': 0.1239, 'MAX_RAISE': -0.0036, 'FOLD': -0.103, 'MIN_RAISE': -0.2393, 'CALL': 0.0205}\n",
    "      state : {'DOUBLE_RAISE': 0.0054, 'TRIPLE_RAISE': -0.0054, 'MAX_RAISE': -0.3699, 'FOLD': 0.3375, 'MIN_RAISE': 0.1326, 'CALL': 0.1309}\n",
    "      history(paid sum) : {'DOUBLE_RAISE': -0.2859, 'TRIPLE_RAISE': -0.0713, 'MAX_RAISE': -0.3102, 'FOLD': -0.1556, 'MIN_RAISE': 0.237, 'CALL': 0.3463}"
   ]
  },
  {
   "cell_type": "markdown",
   "metadata": {},
   "source": [
    "##  1-round poker"
   ]
  },
  {
   "cell_type": "markdown",
   "metadata": {},
   "source": [
    "### annealing type = middle\n",
    "training time = 64672s"
   ]
  },
  {
   "cell_type": "markdown",
   "metadata": {},
   "source": [
    "#### Initial value transition\n",
    "<img src=\"./resource/epsilon_annaling_test_1231/1round/middle/initial_value_transition.png\" width=600/>"
   ]
  },
  {
   "cell_type": "markdown",
   "metadata": {},
   "source": [
    "#### Round-robin match\n",
    "<img src=\"./resource/epsilon_annaling_test_1231/1round/middle/1_round_3000_match_subplot_1231_09_45_22.png\" width=600/>\n",
    "<img src=\"./resource/epsilon_annaling_test_1231/1round/middle/1_round_3000_match_histgram_1231_09_45_22.png\" width=600/>"
   ]
  },
  {
   "cell_type": "markdown",
   "metadata": {},
   "source": [
    "#### Weights"
   ]
  },
  {
   "cell_type": "raw",
   "metadata": {},
   "source": [
    "****************************************\n",
    "After 1000000 iteration\n",
    "****************************************\n",
    "round count\n",
    "  FOLD : -0.1141\n",
    "  CALL : -0.4813\n",
    "  MIN_RAISE : -0.3082\n",
    "  DOUBLE_RAISE : -0.6789\n",
    "  TRIPLE_RAISE : -0.5235\n",
    "  MAX_RAISE : 0.2305\n",
    "dealer button\n",
    "  FOLD : -0.3358\n",
    "  CALL : -0.5504\n",
    "  MIN_RAISE : -0.5859\n",
    "  DOUBLE_RAISE : -0.5733\n",
    "  TRIPLE_RAISE : -0.5216\n",
    "  MAX_RAISE : 0.0847\n",
    "street\n",
    "  FOLD : -0.0068\n",
    "  CALL : -0.8447\n",
    "  MIN_RAISE : -0.4722\n",
    "  DOUBLE_RAISE : -0.4633\n",
    "  TRIPLE_RAISE : 0.0936\n",
    "  MAX_RAISE : -0.1078\n",
    "cards\n",
    "  FOLD : -0.0017\n",
    "  CALL : 0.0246\n",
    "  MIN_RAISE : 0.0328\n",
    "  DOUBLE_RAISE : 0.0151\n",
    "  TRIPLE_RAISE : 0.0196\n",
    "  MAX_RAISE : 0.1486\n",
    "pot\n",
    "  FOLD : -0.1247\n",
    "  CALL : -0.1996\n",
    "  MIN_RAISE : 0.5081\n",
    "  DOUBLE_RAISE : 0.5826\n",
    "  TRIPLE_RAISE : 0.0246\n",
    "  MAX_RAISE : 0.6516\n",
    "seats\n",
    "    player 0\n",
    "      stack : {'DOUBLE_RAISE': 1.6606, 'TRIPLE_RAISE': 0.3812, 'MAX_RAISE': 0.0656, 'FOLD': 0.8415, 'MIN_RAISE': 1.2462, 'CALL': 0.162}\n",
    "      state : {'DOUBLE_RAISE': -0.4876, 'TRIPLE_RAISE': -0.153, 'MAX_RAISE': 0.1732, 'FOLD': 0.3337, 'MIN_RAISE': -0.4138, 'CALL': -0.7414}\n",
    "      history(paid sum) : {'DOUBLE_RAISE': 1.8373, 'TRIPLE_RAISE': 1.2804, 'MAX_RAISE': 0.2693, 'FOLD': -0.0066, 'MIN_RAISE': 1.8732, 'CALL': 3.0836}\n",
    "    player 1\n",
    "      stack : {'DOUBLE_RAISE': 0.3058, 'TRIPLE_RAISE': 0.457, 'MAX_RAISE': 0.1008, 'FOLD': -0.0644, 'MIN_RAISE': 0.7222, 'CALL': 0.5609}\n",
    "      state : {'DOUBLE_RAISE': 0.1631, 'TRIPLE_RAISE': 0.1215, 'MAX_RAISE': -0.0102, 'FOLD': 0.0014, 'MIN_RAISE': 0.1041, 'CALL': 0.0537}\n",
    "      history(paid sum) : {'DOUBLE_RAISE': 1.4199, 'TRIPLE_RAISE': 1.2403, 'MAX_RAISE': -0.7248, 'FOLD': 0.0018, 'MIN_RAISE': 1.2282, 'CALL': 1.8162}\n",
    "    player 2\n",
    "      stack : {'DOUBLE_RAISE': 0.6008, 'TRIPLE_RAISE': -0.1411, 'MAX_RAISE': -0.5737, 'FOLD': -0.1115, 'MIN_RAISE': -0.0384, 'CALL': 0.4457}\n",
    "      state : {'DOUBLE_RAISE': 0.0658, 'TRIPLE_RAISE': 0.0318, 'MAX_RAISE': 0.0171, 'FOLD': -0.0019, 'MIN_RAISE': 0.0216, 'CALL': 0.0468}\n",
    "      history(paid sum) : {'DOUBLE_RAISE': 1.0503, 'TRIPLE_RAISE': 0.3296, 'MAX_RAISE': -0.302, 'FOLD': 0.0044, 'MIN_RAISE': 1.6495, 'CALL': 1.2285}\n",
    "    player 3\n",
    "      stack : {'DOUBLE_RAISE': 1.1744, 'TRIPLE_RAISE': 0.796, 'MAX_RAISE': -0.0994, 'FOLD': -0.1093, 'MIN_RAISE': 0.9676, 'CALL': 1.6909}\n",
    "      state : {'DOUBLE_RAISE': -0.1734, 'TRIPLE_RAISE': -0.1694, 'MAX_RAISE': 0.0356, 'FOLD': 0.0043, 'MIN_RAISE': -0.1991, 'CALL': -0.1073}\n",
    "      history(paid sum) : {'DOUBLE_RAISE': 2.3361, 'TRIPLE_RAISE': 1.9718, 'MAX_RAISE': -1.0054, 'FOLD': 0.0752, 'MIN_RAISE': 1.7573, 'CALL': 1.9302}\n",
    "    player 4\n",
    "      stack : {'DOUBLE_RAISE': -0.3866, 'TRIPLE_RAISE': -0.2563, 'MAX_RAISE': 0.256, 'FOLD': -0.0666, 'MIN_RAISE': -0.4886, 'CALL': 0.2165}\n",
    "      state : {'DOUBLE_RAISE': 0.1632, 'TRIPLE_RAISE': 0.3119, 'MAX_RAISE': -0.0077, 'FOLD': -0.0081, 'MIN_RAISE': 0.1829, 'CALL': 0.3288}\n",
    "      history(paid sum) : {'DOUBLE_RAISE': -0.2555, 'TRIPLE_RAISE': -0.5322, 'MAX_RAISE': -0.756, 'FOLD': 0.0286, 'MIN_RAISE': 0.3272, 'CALL': 0.8915}\n",
    "    player 5\n",
    "      stack : {'DOUBLE_RAISE': -0.3859, 'TRIPLE_RAISE': -0.7648, 'MAX_RAISE': -0.2756, 'FOLD': -0.0641, 'MIN_RAISE': -0.4187, 'CALL': -0.5875}\n",
    "      state : {'DOUBLE_RAISE': 0.1101, 'TRIPLE_RAISE': 0.1519, 'MAX_RAISE': -0.1509, 'FOLD': -0.0035, 'MIN_RAISE': 0.1161, 'CALL': 0.2972}\n",
    "      history(paid sum) : {'DOUBLE_RAISE': 1.2821, 'TRIPLE_RAISE': 0.427, 'MAX_RAISE': -0.4448, 'FOLD': 0.002, 'MIN_RAISE': 1.8432, 'CALL': 1.3336}\n",
    "    player 6\n",
    "      stack : {'DOUBLE_RAISE': -0.0531, 'TRIPLE_RAISE': -0.4935, 'MAX_RAISE': -0.0498, 'FOLD': -0.0993, 'MIN_RAISE': -0.1284, 'CALL': 0.2032}\n",
    "      state : {'DOUBLE_RAISE': 0.0278, 'TRIPLE_RAISE': 0.0999, 'MAX_RAISE': 0.2179, 'FOLD': -0.0011, 'MIN_RAISE': 0.0545, 'CALL': 0.154}\n",
    "      history(paid sum) : {'DOUBLE_RAISE': 1.2317, 'TRIPLE_RAISE': 0.0331, 'MAX_RAISE': 0.4627, 'FOLD': 0.0257, 'MIN_RAISE': 1.2132, 'CALL': 1.2834}\n",
    "    player 7\n",
    "      stack : {'DOUBLE_RAISE': -0.316, 'TRIPLE_RAISE': -1.1391, 'MAX_RAISE': -0.386, 'FOLD': -0.1093, 'MIN_RAISE': -0.6483, 'CALL': -1.444}\n",
    "      state : {'DOUBLE_RAISE': -0.207, 'TRIPLE_RAISE': -0.0202, 'MAX_RAISE': 0.02, 'FOLD': -0.0134, 'MIN_RAISE': -0.1878, 'CALL': -0.1425}\n",
    "      history(paid sum) : {'DOUBLE_RAISE': 1.2434, 'TRIPLE_RAISE': 0.6342, 'MAX_RAISE': 0.0325, 'FOLD': 0.0164, 'MIN_RAISE': 1.7776, 'CALL': 1.8904}\n",
    "    player 8\n",
    "      stack : {'DOUBLE_RAISE': -0.1502, 'TRIPLE_RAISE': -0.0101, 'MAX_RAISE': 0.044, 'FOLD': -0.0784, 'MIN_RAISE': -1.4159, 'CALL': -0.6759}\n",
    "      state : {'DOUBLE_RAISE': -0.1042, 'TRIPLE_RAISE': 0.0248, 'MAX_RAISE': -0.157, 'FOLD': -0.0068, 'MIN_RAISE': -0.183, 'CALL': -0.1365}\n",
    "      history(paid sum) : {'DOUBLE_RAISE': 1.2063, 'TRIPLE_RAISE': 0.9091, 'MAX_RAISE': 0.1826, 'FOLD': 0.0018, 'MIN_RAISE': 1.4744, 'CALL': 1.257}\n",
    "    player 9\n",
    "      stack : {'DOUBLE_RAISE': -0.4378, 'TRIPLE_RAISE': -1.1553, 'MAX_RAISE': -0.8187, 'FOLD': -0.1655, 'MIN_RAISE': -0.108, 'CALL': -0.7605}\n",
    "      state : {'DOUBLE_RAISE': 0.0015, 'TRIPLE_RAISE': 0.051, 'MAX_RAISE': -0.4821, 'FOLD': -0.0032, 'MIN_RAISE': 0.066, 'CALL': -0.0272}\n",
    "      history(paid sum) : {'DOUBLE_RAISE': 0.8821, 'TRIPLE_RAISE': 0.9444, 'MAX_RAISE': 0.2119, 'FOLD': -0.0043, 'MIN_RAISE': 1.1531, 'CALL': 1.3282}"
   ]
  },
  {
   "cell_type": "markdown",
   "metadata": {},
   "source": [
    "### annealing type = long\n",
    "training time = 66075s"
   ]
  },
  {
   "cell_type": "markdown",
   "metadata": {},
   "source": [
    "#### Initial value transition\n",
    "<img src=\"./resource/epsilon_annaling_test_1231/1round/long/initial_value_transition.png\" width=600/>"
   ]
  },
  {
   "cell_type": "markdown",
   "metadata": {},
   "source": [
    "#### Round-robin match\n",
    "<img src=\"./resource/epsilon_annaling_test_1231/1round/long/1_round_3000_match_subplot_1231_09_46_12.png\" width=600/>\n",
    "<img src=\"./resource/epsilon_annaling_test_1231/1round/long/1_round_3000_match_histgram_1231_09_46_12.png\" width=600/>"
   ]
  },
  {
   "cell_type": "markdown",
   "metadata": {},
   "source": [
    "#### Weights"
   ]
  },
  {
   "cell_type": "raw",
   "metadata": {},
   "source": [
    "****************************************\n",
    "After 1000000 iteration\n",
    "****************************************\n",
    "round count\n",
    "  FOLD : 0.3038\n",
    "  CALL : -0.7508\n",
    "  MIN_RAISE : -0.3895\n",
    "  DOUBLE_RAISE : -0.1436\n",
    "  TRIPLE_RAISE : -0.1165\n",
    "  MAX_RAISE : 0.0259\n",
    "dealer button\n",
    "  FOLD : -0.1435\n",
    "  CALL : -0.233\n",
    "  MIN_RAISE : -0.508\n",
    "  DOUBLE_RAISE : 0.1897\n",
    "  TRIPLE_RAISE : -0.0523\n",
    "  MAX_RAISE : -0.1676\n",
    "street\n",
    "  FOLD : -0.0003\n",
    "  CALL : -0.4044\n",
    "  MIN_RAISE : -0.0403\n",
    "  DOUBLE_RAISE : -0.2779\n",
    "  TRIPLE_RAISE : -0.2535\n",
    "  MAX_RAISE : -0.0366\n",
    "cards\n",
    "  FOLD : 0.0048\n",
    "  CALL : 0.2145\n",
    "  MIN_RAISE : 0.05\n",
    "  DOUBLE_RAISE : 0.0692\n",
    "  TRIPLE_RAISE : 0.0031\n",
    "  MAX_RAISE : 0.5166\n",
    "pot\n",
    "  FOLD : 0.0564\n",
    "  CALL : -0.9198\n",
    "  MIN_RAISE : 0.0925\n",
    "  DOUBLE_RAISE : -0.7863\n",
    "  TRIPLE_RAISE : 0.2018\n",
    "  MAX_RAISE : 0.0372\n",
    "seats\n",
    "    player 0\n",
    "      stack : {'DOUBLE_RAISE': 1.3796, 'TRIPLE_RAISE': -1.1733, 'MAX_RAISE': -0.0819, 'FOLD': 0.8056, 'MIN_RAISE': 0.189, 'CALL': 0.6944}\n",
    "      state : {'DOUBLE_RAISE': 0.0639, 'TRIPLE_RAISE': -0.2943, 'MAX_RAISE': 0.0875, 'FOLD': -0.1271, 'MIN_RAISE': -0.4717, 'CALL': -0.5601}\n",
    "      history(paid sum) : {'DOUBLE_RAISE': -1.1396, 'TRIPLE_RAISE': 1.2719, 'MAX_RAISE': 0.2671, 'FOLD': -0.0341, 'MIN_RAISE': 1.2886, 'CALL': 1.711}\n",
    "    player 1\n",
    "      stack : {'DOUBLE_RAISE': 0.5317, 'TRIPLE_RAISE': 0.0603, 'MAX_RAISE': -0.3146, 'FOLD': 0.1186, 'MIN_RAISE': -0.2203, 'CALL': -0.6161}\n",
    "      state : {'DOUBLE_RAISE': -0.5534, 'TRIPLE_RAISE': -0.0763, 'MAX_RAISE': 0.0358, 'FOLD': 0.0061, 'MIN_RAISE': 0.1335, 'CALL': 0.1253}\n",
    "      history(paid sum) : {'DOUBLE_RAISE': 0.1165, 'TRIPLE_RAISE': 0.2984, 'MAX_RAISE': -1.0054, 'FOLD': -0.0276, 'MIN_RAISE': 0.2528, 'CALL': 2.1116}\n",
    "    player 2\n",
    "      stack : {'DOUBLE_RAISE': 1.3711, 'TRIPLE_RAISE': -0.1867, 'MAX_RAISE': -0.1748, 'FOLD': -0.0502, 'MIN_RAISE': 0.2381, 'CALL': 0.4926}\n",
    "      state : {'DOUBLE_RAISE': 0.3699, 'TRIPLE_RAISE': -0.1097, 'MAX_RAISE': -0.11, 'FOLD': -0.0124, 'MIN_RAISE': -0.06, 'CALL': 0.1064}\n",
    "      history(paid sum) : {'DOUBLE_RAISE': -0.2297, 'TRIPLE_RAISE': 0.7547, 'MAX_RAISE': -0.2471, 'FOLD': -0.0237, 'MIN_RAISE': 1.0243, 'CALL': 1.6431}\n",
    "    player 3\n",
    "      stack : {'DOUBLE_RAISE': 1.3034, 'TRIPLE_RAISE': -0.2136, 'MAX_RAISE': -0.1444, 'FOLD': -0.0939, 'MIN_RAISE': -0.1395, 'CALL': 0.4048}\n",
    "      state : {'DOUBLE_RAISE': 0.442, 'TRIPLE_RAISE': 0.0144, 'MAX_RAISE': -0.1145, 'FOLD': -0.0028, 'MIN_RAISE': 0.0484, 'CALL': -0.3751}\n",
    "      history(paid sum) : {'DOUBLE_RAISE': -0.7239, 'TRIPLE_RAISE': 0.2103, 'MAX_RAISE': -0.1896, 'FOLD': -0.0296, 'MIN_RAISE': 0.5367, 'CALL': 1.3437}\n",
    "    player 4\n",
    "      stack : {'DOUBLE_RAISE': -0.1156, 'TRIPLE_RAISE': -0.321, 'MAX_RAISE': 0.1313, 'FOLD': -0.0563, 'MIN_RAISE': 0.0603, 'CALL': -0.1884}\n",
    "      state : {'DOUBLE_RAISE': 0.1028, 'TRIPLE_RAISE': 0.3899, 'MAX_RAISE': -0.1629, 'FOLD': -0.005, 'MIN_RAISE': 0.0427, 'CALL': 0.465}\n",
    "      history(paid sum) : {'DOUBLE_RAISE': 0.2212, 'TRIPLE_RAISE': -0.7997, 'MAX_RAISE': -0.7651, 'FOLD': -0.0486, 'MIN_RAISE': 0.0097, 'CALL': -1.4003}\n",
    "    player 5\n",
    "      stack : {'DOUBLE_RAISE': 0.5274, 'TRIPLE_RAISE': -0.4359, 'MAX_RAISE': -0.1972, 'FOLD': 0.2553, 'MIN_RAISE': 0.1435, 'CALL': -0.0216}\n",
    "      state : {'DOUBLE_RAISE': -1.095, 'TRIPLE_RAISE': 0.6644, 'MAX_RAISE': 0.9143, 'FOLD': 0.0051, 'MIN_RAISE': 0.1461, 'CALL': -0.0656}\n",
    "      history(paid sum) : {'DOUBLE_RAISE': 0.2747, 'TRIPLE_RAISE': -0.0413, 'MAX_RAISE': -1.2296, 'FOLD': -0.008, 'MIN_RAISE': 0.2798, 'CALL': 0.3395}\n",
    "    player 6\n",
    "      stack : {'DOUBLE_RAISE': 0.3594, 'TRIPLE_RAISE': 0.0255, 'MAX_RAISE': -0.1437, 'FOLD': 0.004, 'MIN_RAISE': 0.0871, 'CALL': 0.4566}\n",
    "      state : {'DOUBLE_RAISE': -1.3081, 'TRIPLE_RAISE': 0.1539, 'MAX_RAISE': 0.0887, 'FOLD': 0.0062, 'MIN_RAISE': 0.079, 'CALL': -0.0109}\n",
    "      history(paid sum) : {'DOUBLE_RAISE': 1.3965, 'TRIPLE_RAISE': 0.1776, 'MAX_RAISE': -0.4564, 'FOLD': -0.0504, 'MIN_RAISE': 0.9564, 'CALL': 0.6952}\n",
    "    player 7\n",
    "      stack : {'DOUBLE_RAISE': 0.0921, 'TRIPLE_RAISE': -0.045, 'MAX_RAISE': -1.1977, 'FOLD': 0.1425, 'MIN_RAISE': 1.0039, 'CALL': -0.4141}\n",
    "      state : {'DOUBLE_RAISE': 0.033, 'TRIPLE_RAISE': 0.0337, 'MAX_RAISE': -0.1204, 'FOLD': 0.0053, 'MIN_RAISE': -0.0253, 'CALL': -0.0434}\n",
    "      history(paid sum) : {'DOUBLE_RAISE': 0.8151, 'TRIPLE_RAISE': -0.134, 'MAX_RAISE': -0.1284, 'FOLD': -0.0226, 'MIN_RAISE': 0.8099, 'CALL': 1.0123}\n",
    "    player 8\n",
    "      stack : {'DOUBLE_RAISE': -0.4954, 'TRIPLE_RAISE': -0.6239, 'MAX_RAISE': -0.5342, 'FOLD': 0.1252, 'MIN_RAISE': 0.13, 'CALL': -0.4579}\n",
    "      state : {'DOUBLE_RAISE': -0.0399, 'TRIPLE_RAISE': -0.0427, 'MAX_RAISE': -0.1561, 'FOLD': 0.0065, 'MIN_RAISE': 0.0612, 'CALL': -0.0102}\n",
    "      history(paid sum) : {'DOUBLE_RAISE': 0.9828, 'TRIPLE_RAISE': 0.2888, 'MAX_RAISE': 0.3587, 'FOLD': -0.0232, 'MIN_RAISE': 0.2405, 'CALL': 0.8283}\n",
    "    player 9\n",
    "      stack : {'DOUBLE_RAISE': 0.3981, 'TRIPLE_RAISE': 0.5973, 'MAX_RAISE': 0.4692, 'FOLD': 0.012, 'MIN_RAISE': -0.258, 'CALL': 0.6074}\n",
    "      state : {'DOUBLE_RAISE': 0.3994, 'TRIPLE_RAISE': -0.1355, 'MAX_RAISE': -0.4153, 'FOLD': -0.0017, 'MIN_RAISE': -0.0335, 'CALL': 0.0754}\n",
    "      history(paid sum) : {'DOUBLE_RAISE': 0.5715, 'TRIPLE_RAISE': 0.034, 'MAX_RAISE': -0.5015, 'FOLD': -0.0268, 'MIN_RAISE': 0.5913, 'CALL': 0.7383}"
   ]
  },
  {
   "cell_type": "markdown",
   "metadata": {},
   "source": [
    "### Round-robin match with different annealing types\n",
    "- annealing_long looks good\n",
    "<img src=\"./resource/epsilon_annaling_test_1231/1round/1_round_3000_match_subplot_1231_10_06_04.png\" width=600/>\n",
    "<img src=\"./resource/epsilon_annaling_test_1231/1round/1_round_3000_match_histgram_1231_10_06_04.png\" width=600/>"
   ]
  },
  {
   "cell_type": "markdown",
   "metadata": {},
   "source": [
    "##  2-round poker"
   ]
  },
  {
   "cell_type": "markdown",
   "metadata": {},
   "source": [
    "### annealing type = short\n",
    "training time = 95204s"
   ]
  },
  {
   "cell_type": "markdown",
   "metadata": {},
   "source": [
    "#### Initial value transition\n",
    "<img src=\"./resource/epsilon_annaling_test_1231/2round/short/initial_value_transition.png\" width=600/>"
   ]
  },
  {
   "cell_type": "markdown",
   "metadata": {},
   "source": [
    "#### Round-robin match\n",
    "<img src=\"./resource/epsilon_annaling_test_1231/2round/short/2_round_3000_match_subplot_1231_10_35_58.png\" width=600/>\n",
    "<img src=\"./resource/epsilon_annaling_test_1231/2round/short/2_round_3000_match_histgram_1231_10_35_58.png\" width=600/>"
   ]
  },
  {
   "cell_type": "markdown",
   "metadata": {},
   "source": [
    "#### Weights"
   ]
  },
  {
   "cell_type": "raw",
   "metadata": {},
   "source": [
    "****************************************\n",
    "After 1000000 iteration\n",
    "****************************************\n",
    "round count\n",
    "  FOLD : -0.7534\n",
    "  CALL : -1.8377\n",
    "  MIN_RAISE : -1.1834\n",
    "  DOUBLE_RAISE : -1.2423\n",
    "  TRIPLE_RAISE : -1.2613\n",
    "  MAX_RAISE : -1.0768\n",
    "dealer button\n",
    "  FOLD : -0.1797\n",
    "  CALL : 0.2746\n",
    "  MIN_RAISE : -0.5788\n",
    "  DOUBLE_RAISE : -0.8129\n",
    "  TRIPLE_RAISE : -0.3497\n",
    "  MAX_RAISE : 0.4522\n",
    "street\n",
    "  FOLD : -0.4742\n",
    "  CALL : 0.1822\n",
    "  MIN_RAISE : -0.7798\n",
    "  DOUBLE_RAISE : -0.9577\n",
    "  TRIPLE_RAISE : -0.3325\n",
    "  MAX_RAISE : -1.3436\n",
    "cards\n",
    "  FOLD : -0.0033\n",
    "  CALL : 0.0737\n",
    "  MIN_RAISE : 0.0905\n",
    "  DOUBLE_RAISE : 0.0567\n",
    "  TRIPLE_RAISE : 0.169\n",
    "  MAX_RAISE : 0.2226\n",
    "pot\n",
    "  FOLD : 0.7765\n",
    "  CALL : -0.4707\n",
    "  MIN_RAISE : 0.6733\n",
    "  DOUBLE_RAISE : 0.3525\n",
    "  TRIPLE_RAISE : 0.6422\n",
    "  MAX_RAISE : 0.3362\n",
    "seats\n",
    "    player 0\n",
    "      stack : {'DOUBLE_RAISE': 1.0009, 'TRIPLE_RAISE': 0.7725, 'MAX_RAISE': 1.6829, 'FOLD': 1.4088, 'MIN_RAISE': 1.3865, 'CALL': 1.4052}\n",
    "      state : {'DOUBLE_RAISE': -1.0991, 'TRIPLE_RAISE': -1.5074, 'MAX_RAISE': -0.8414, 'FOLD': -0.8979, 'MIN_RAISE': -1.1333, 'CALL': -1.5856}\n",
    "      history(paid sum) : {'DOUBLE_RAISE': 3.6859, 'TRIPLE_RAISE': 3.8724, 'MAX_RAISE': 2.0335, 'FOLD': 2.4091, 'MIN_RAISE': 3.5888, 'CALL': 3.2276}\n",
    "    player 1\n",
    "      stack : {'DOUBLE_RAISE': -0.4094, 'TRIPLE_RAISE': -0.0757, 'MAX_RAISE': -0.5087, 'FOLD': 0.5768, 'MIN_RAISE': 0.1297, 'CALL': -0.0185}\n",
    "      state : {'DOUBLE_RAISE': 0.0601, 'TRIPLE_RAISE': -0.0606, 'MAX_RAISE': -0.1054, 'FOLD': 0.0362, 'MIN_RAISE': 0.1097, 'CALL': 0.2279}\n",
    "      history(paid sum) : {'DOUBLE_RAISE': 2.9758, 'TRIPLE_RAISE': 2.8824, 'MAX_RAISE': 0.8787, 'FOLD': 2.4962, 'MIN_RAISE': 2.7221, 'CALL': 2.5193}\n",
    "    player 2\n",
    "      stack : {'DOUBLE_RAISE': -0.4517, 'TRIPLE_RAISE': -1.0581, 'MAX_RAISE': -1.2162, 'FOLD': 0.8837, 'MIN_RAISE': 0.1338, 'CALL': 2.136}\n",
    "      state : {'DOUBLE_RAISE': -0.2909, 'TRIPLE_RAISE': 0.1985, 'MAX_RAISE': 0.0139, 'FOLD': 0.0083, 'MIN_RAISE': -0.1113, 'CALL': -0.394}\n",
    "      history(paid sum) : {'DOUBLE_RAISE': 3.3086, 'TRIPLE_RAISE': 0.6533, 'MAX_RAISE': 0.6091, 'FOLD': 0.9022, 'MIN_RAISE': 2.718, 'CALL': 1.6063}\n",
    "    player 3\n",
    "      stack : {'DOUBLE_RAISE': -0.4964, 'TRIPLE_RAISE': -1.318, 'MAX_RAISE': -0.1033, 'FOLD': 0.2637, 'MIN_RAISE': -0.2171, 'CALL': -0.1458}\n",
    "      state : {'DOUBLE_RAISE': 0.0578, 'TRIPLE_RAISE': 0.2062, 'MAX_RAISE': -0.1735, 'FOLD': 0.0355, 'MIN_RAISE': 0.0735, 'CALL': -0.0451}\n",
    "      history(paid sum) : {'DOUBLE_RAISE': 3.0173, 'TRIPLE_RAISE': 1.8498, 'MAX_RAISE': 0.9942, 'FOLD': 1.4857, 'MIN_RAISE': 1.028, 'CALL': 2.7495}\n",
    "    player 4\n",
    "      stack : {'DOUBLE_RAISE': -0.6207, 'TRIPLE_RAISE': -0.0579, 'MAX_RAISE': 0.1454, 'FOLD': 0.2904, 'MIN_RAISE': -0.2332, 'CALL': 0.5034}\n",
    "      state : {'DOUBLE_RAISE': 0.2424, 'TRIPLE_RAISE': 0.4353, 'MAX_RAISE': 0.2602, 'FOLD': 0.0099, 'MIN_RAISE': 0.4051, 'CALL': 0.3945}\n",
    "      history(paid sum) : {'DOUBLE_RAISE': 2.4864, 'TRIPLE_RAISE': 2.2232, 'MAX_RAISE': -0.2051, 'FOLD': 1.5804, 'MIN_RAISE': 1.8776, 'CALL': 1.7465}\n",
    "    player 5\n",
    "      stack : {'DOUBLE_RAISE': 0.1963, 'TRIPLE_RAISE': -0.0815, 'MAX_RAISE': -1.3002, 'FOLD': 0.8031, 'MIN_RAISE': 0.1104, 'CALL': -0.2037}\n",
    "      state : {'DOUBLE_RAISE': -0.1069, 'TRIPLE_RAISE': -0.457, 'MAX_RAISE': -0.4489, 'FOLD': 0.0311, 'MIN_RAISE': -0.3563, 'CALL': -0.1917}\n",
    "      history(paid sum) : {'DOUBLE_RAISE': 3.3388, 'TRIPLE_RAISE': 4.1169, 'MAX_RAISE': 2.7149, 'FOLD': 1.5906, 'MIN_RAISE': 3.2846, 'CALL': 3.5724}\n",
    "    player 6\n",
    "      stack : {'DOUBLE_RAISE': 0.6942, 'TRIPLE_RAISE': 0.5692, 'MAX_RAISE': 0.9307, 'FOLD': 0.2263, 'MIN_RAISE': 0.2883, 'CALL': 0.5791}\n",
    "      state : {'DOUBLE_RAISE': -0.0984, 'TRIPLE_RAISE': 0.3714, 'MAX_RAISE': -0.2036, 'FOLD': 0.0344, 'MIN_RAISE': -0.0761, 'CALL': -0.1018}\n",
    "      history(paid sum) : {'DOUBLE_RAISE': 3.7142, 'TRIPLE_RAISE': 3.2158, 'MAX_RAISE': 1.4047, 'FOLD': 1.5046, 'MIN_RAISE': 3.4523, 'CALL': 3.5729}\n",
    "    player 7\n",
    "      stack : {'DOUBLE_RAISE': -0.2218, 'TRIPLE_RAISE': -0.5128, 'MAX_RAISE': 0.2641, 'FOLD': 0.3514, 'MIN_RAISE': -0.4385, 'CALL': -1.3411}\n",
    "      state : {'DOUBLE_RAISE': 0.2719, 'TRIPLE_RAISE': 0.4309, 'MAX_RAISE': 0.0134, 'FOLD': -0.0165, 'MIN_RAISE': 0.2783, 'CALL': 0.5658}\n",
    "      history(paid sum) : {'DOUBLE_RAISE': 2.5641, 'TRIPLE_RAISE': 1.9887, 'MAX_RAISE': 1.9294, 'FOLD': 1.5988, 'MIN_RAISE': 2.0576, 'CALL': 1.869}\n",
    "    player 8\n",
    "      stack : {'DOUBLE_RAISE': -0.7747, 'TRIPLE_RAISE': -0.3838, 'MAX_RAISE': -0.8127, 'FOLD': 0.5147, 'MIN_RAISE': -0.5127, 'CALL': -0.3693}\n",
    "      state : {'DOUBLE_RAISE': 0.1739, 'TRIPLE_RAISE': -0.0668, 'MAX_RAISE': 0.2818, 'FOLD': -0.0291, 'MIN_RAISE': 0.0489, 'CALL': 0.0047}\n",
    "      history(paid sum) : {'DOUBLE_RAISE': 3.046, 'TRIPLE_RAISE': 2.315, 'MAX_RAISE': 1.1696, 'FOLD': 1.5534, 'MIN_RAISE': 2.617, 'CALL': 2.933}\n",
    "    player 9\n",
    "      stack : {'DOUBLE_RAISE': -0.435, 'TRIPLE_RAISE': -1.2026, 'MAX_RAISE': -2.0334, 'FOLD': 0.5564, 'MIN_RAISE': -0.3753, 'CALL': -0.0919}\n",
    "      state : {'DOUBLE_RAISE': -0.0635, 'TRIPLE_RAISE': -0.2152, 'MAX_RAISE': -0.0718, 'FOLD': 0.0164, 'MIN_RAISE': -0.0768, 'CALL': 0.0335}\n",
    "      history(paid sum) : {'DOUBLE_RAISE': 3.061, 'TRIPLE_RAISE': 2.6627, 'MAX_RAISE': 1.9081, 'FOLD': 1.4848, 'MIN_RAISE': 2.7486, 'CALL': 2.5557}"
   ]
  },
  {
   "cell_type": "markdown",
   "metadata": {},
   "source": [
    "### annealing type = middle\n",
    "training time = 214139s"
   ]
  },
  {
   "cell_type": "markdown",
   "metadata": {},
   "source": [
    "#### Initial value transition\n",
    "<img src=\"./resource/epsilon_annaling_test_1231/2round/middle/initial_value_transition.png\" width=600/>"
   ]
  },
  {
   "cell_type": "markdown",
   "metadata": {},
   "source": [
    "#### Round-robin match\n",
    "<img src=\"./resource/epsilon_annaling_test_1231/2round/middle/2_round_3000_match_subplot_1231_10_49_12.png\" width=600/>\n",
    "<img src=\"./resource/epsilon_annaling_test_1231/2round/middle/2_round_3000_match_histgram_1231_10_49_12.png\" width=600/>"
   ]
  },
  {
   "cell_type": "markdown",
   "metadata": {},
   "source": [
    "#### Weights"
   ]
  },
  {
   "cell_type": "raw",
   "metadata": {},
   "source": [
    "****************************************\n",
    "After 1000000 iteration\n",
    "****************************************\n",
    "round count\n",
    "  FOLD : -0.3569\n",
    "  CALL : -1.5414\n",
    "  MIN_RAISE : -1.512\n",
    "  DOUBLE_RAISE : -0.937\n",
    "  TRIPLE_RAISE : -1.3858\n",
    "  MAX_RAISE : -0.6526\n",
    "dealer button\n",
    "  FOLD : -0.1439\n",
    "  CALL : -0.6642\n",
    "  MIN_RAISE : -0.5674\n",
    "  DOUBLE_RAISE : -0.5724\n",
    "  TRIPLE_RAISE : -0.5134\n",
    "  MAX_RAISE : -0.7469\n",
    "street\n",
    "  FOLD : -0.088\n",
    "  CALL : -0.854\n",
    "  MIN_RAISE : -0.8983\n",
    "  DOUBLE_RAISE : -0.0839\n",
    "  TRIPLE_RAISE : -1.0192\n",
    "  MAX_RAISE : 0.5814\n",
    "cards\n",
    "  FOLD : -0.0096\n",
    "  CALL : 0.3164\n",
    "  MIN_RAISE : 0.0442\n",
    "  DOUBLE_RAISE : 0.0351\n",
    "  TRIPLE_RAISE : 0.0109\n",
    "  MAX_RAISE : 0.5789\n",
    "pot\n",
    "  FOLD : 0.1808\n",
    "  CALL : -0.7436\n",
    "  MIN_RAISE : -0.0632\n",
    "  DOUBLE_RAISE : -1.7824\n",
    "  TRIPLE_RAISE : -1.204\n",
    "  MAX_RAISE : 1.7057\n",
    "seats\n",
    "    player 0\n",
    "      stack : {'DOUBLE_RAISE': 1.7501, 'TRIPLE_RAISE': 1.093, 'MAX_RAISE': 1.9914, 'FOLD': 0.9879, 'MIN_RAISE': 1.5144, 'CALL': 2.3528}\n",
    "      state : {'DOUBLE_RAISE': -1.2388, 'TRIPLE_RAISE': -1.2259, 'MAX_RAISE': -0.5077, 'FOLD': -0.7233, 'MIN_RAISE': -1.6653, 'CALL': -1.3245}\n",
    "      history(paid sum) : {'DOUBLE_RAISE': 4.2085, 'TRIPLE_RAISE': 4.4994, 'MAX_RAISE': 1.4623, 'FOLD': 2.0147, 'MIN_RAISE': 6.1193, 'CALL': 4.7647}\n",
    "    player 1\n",
    "      stack : {'DOUBLE_RAISE': 0.7795, 'TRIPLE_RAISE': -0.0638, 'MAX_RAISE': 0.2917, 'FOLD': 0.3278, 'MIN_RAISE': 0.265, 'CALL': 1.0351}\n",
    "      state : {'DOUBLE_RAISE': -0.1769, 'TRIPLE_RAISE': -0.0777, 'MAX_RAISE': 0.0407, 'FOLD': -0.0009, 'MIN_RAISE': 0.0745, 'CALL': -0.1684}\n",
    "      history(paid sum) : {'DOUBLE_RAISE': 3.0024, 'TRIPLE_RAISE': 2.8999, 'MAX_RAISE': 0.5119, 'FOLD': 1.1687, 'MIN_RAISE': 1.9918, 'CALL': 1.8752}\n",
    "    player 2\n",
    "      stack : {'DOUBLE_RAISE': -0.0748, 'TRIPLE_RAISE': -0.3058, 'MAX_RAISE': -0.3082, 'FOLD': 0.1792, 'MIN_RAISE': -0.2432, 'CALL': 0.3029}\n",
    "      state : {'DOUBLE_RAISE': 0.0297, 'TRIPLE_RAISE': 0.006, 'MAX_RAISE': -0.0835, 'FOLD': -0.0105, 'MIN_RAISE': 0.0873, 'CALL': 0.0334}\n",
    "      history(paid sum) : {'DOUBLE_RAISE': 3.5058, 'TRIPLE_RAISE': 3.692, 'MAX_RAISE': 0.8685, 'FOLD': 1.332, 'MIN_RAISE': 3.0768, 'CALL': 1.7715}\n",
    "    player 3\n",
    "      stack : {'DOUBLE_RAISE': -0.7201, 'TRIPLE_RAISE': -0.6238, 'MAX_RAISE': -0.75, 'FOLD': -0.0161, 'MIN_RAISE': -0.2395, 'CALL': -0.0061}\n",
    "      state : {'DOUBLE_RAISE': -0.01, 'TRIPLE_RAISE': -0.0816, 'MAX_RAISE': -0.1088, 'FOLD': 0.0042, 'MIN_RAISE': 0.027, 'CALL': -0.0862}\n",
    "      history(paid sum) : {'DOUBLE_RAISE': 3.0479, 'TRIPLE_RAISE': 3.1419, 'MAX_RAISE': 0.5167, 'FOLD': 1.1987, 'MIN_RAISE': 2.9287, 'CALL': 2.2212}\n",
    "    player 4\n",
    "      stack : {'DOUBLE_RAISE': -0.4187, 'TRIPLE_RAISE': -0.3002, 'MAX_RAISE': -0.3429, 'FOLD': 0.2652, 'MIN_RAISE': -0.3843, 'CALL': 0.3873}\n",
    "      state : {'DOUBLE_RAISE': 0.2026, 'TRIPLE_RAISE': 0.0264, 'MAX_RAISE': 0.0753, 'FOLD': -0.0643, 'MIN_RAISE': 0.1018, 'CALL': -0.0198}\n",
    "      history(paid sum) : {'DOUBLE_RAISE': 2.6572, 'TRIPLE_RAISE': 2.6341, 'MAX_RAISE': 0.0955, 'FOLD': 1.4038, 'MIN_RAISE': 2.772, 'CALL': 0.8213}\n",
    "    player 5\n",
    "      stack : {'DOUBLE_RAISE': -0.1447, 'TRIPLE_RAISE': -0.2462, 'MAX_RAISE': 0.0126, 'FOLD': 0.2893, 'MIN_RAISE': 0.1373, 'CALL': 0.7075}\n",
    "      state : {'DOUBLE_RAISE': 0.0497, 'TRIPLE_RAISE': 0.0442, 'MAX_RAISE': 0.3763, 'FOLD': -0.0153, 'MIN_RAISE': 0.0227, 'CALL': 0.1542}\n",
    "      history(paid sum) : {'DOUBLE_RAISE': 2.3008, 'TRIPLE_RAISE': 2.8508, 'MAX_RAISE': -1.4124, 'FOLD': 1.3489, 'MIN_RAISE': 3.4241, 'CALL': 1.5719}\n",
    "    player 6\n",
    "      stack : {'DOUBLE_RAISE': -0.145, 'TRIPLE_RAISE': -0.3279, 'MAX_RAISE': 0.2245, 'FOLD': 0.3053, 'MIN_RAISE': -0.1245, 'CALL': 0.4743}\n",
    "      state : {'DOUBLE_RAISE': 0.0192, 'TRIPLE_RAISE': -0.0673, 'MAX_RAISE': 0.1697, 'FOLD': -0.021, 'MIN_RAISE': 0.0066, 'CALL': -0.0301}\n",
    "      history(paid sum) : {'DOUBLE_RAISE': 2.4891, 'TRIPLE_RAISE': 2.9829, 'MAX_RAISE': 0.352, 'FOLD': 1.3128, 'MIN_RAISE': 3.1301, 'CALL': 2.2121}\n",
    "    player 7\n",
    "      stack : {'DOUBLE_RAISE': -0.0852, 'TRIPLE_RAISE': -0.1404, 'MAX_RAISE': -0.2287, 'FOLD': 0.1981, 'MIN_RAISE': -0.1981, 'CALL': 0.0046}\n",
    "      state : {'DOUBLE_RAISE': 0.0764, 'TRIPLE_RAISE': 0.0085, 'MAX_RAISE': 0.0435, 'FOLD': -0.024, 'MIN_RAISE': 0.0538, 'CALL': -0.0647}\n",
    "      history(paid sum) : {'DOUBLE_RAISE': 2.6498, 'TRIPLE_RAISE': 2.8079, 'MAX_RAISE': 0.4339, 'FOLD': 1.3916, 'MIN_RAISE': 2.9642, 'CALL': 2.1176}\n",
    "    player 8\n",
    "      stack : {'DOUBLE_RAISE': -0.2531, 'TRIPLE_RAISE': -0.0907, 'MAX_RAISE': 0.6235, 'FOLD': 0.1417, 'MIN_RAISE': -0.0187, 'CALL': 0.6966}\n",
    "      state : {'DOUBLE_RAISE': -0.0243, 'TRIPLE_RAISE': 0.0329, 'MAX_RAISE': -0.0516, 'FOLD': 0.0092, 'MIN_RAISE': -0.059, 'CALL': -0.3465}\n",
    "      history(paid sum) : {'DOUBLE_RAISE': 2.6625, 'TRIPLE_RAISE': 2.774, 'MAX_RAISE': 0.5643, 'FOLD': 1.4132, 'MIN_RAISE': 2.9501, 'CALL': 2.0414}\n",
    "    player 9\n",
    "      stack : {'DOUBLE_RAISE': -1.3661, 'TRIPLE_RAISE': -1.0009, 'MAX_RAISE': -0.3713, 'FOLD': 0.2398, 'MIN_RAISE': -0.9615, 'CALL': -0.3454}\n",
    "      state : {'DOUBLE_RAISE': -0.0456, 'TRIPLE_RAISE': 0.0047, 'MAX_RAISE': -0.0946, 'FOLD': 0.0436, 'MIN_RAISE': 0.0475, 'CALL': 0.2344}\n",
    "      history(paid sum) : {'DOUBLE_RAISE': 2.6657, 'TRIPLE_RAISE': 2.761, 'MAX_RAISE': 0.5548, 'FOLD': 1.2515, 'MIN_RAISE': 2.9414, 'CALL': 1.7986}"
   ]
  },
  {
   "cell_type": "markdown",
   "metadata": {},
   "source": [
    "### annealing type = long\n",
    "training time = 77102s"
   ]
  },
  {
   "cell_type": "markdown",
   "metadata": {},
   "source": [
    "#### Initial value transition\n",
    "<img src=\"./resource/epsilon_annaling_test_1231/2round/long/initial_value_transition.png\" width=600/>"
   ]
  },
  {
   "cell_type": "markdown",
   "metadata": {},
   "source": [
    "#### Round-robin match\n",
    "<img src=\"./resource/epsilon_annaling_test_1231/2round/long/2_round_3000_match_subplot_1231_10_57_05.png\" width=600/>\n",
    "<img src=\"./resource/epsilon_annaling_test_1231/2round/long/2_round_3000_match_histgram_1231_10_57_05.png\" width=600/>"
   ]
  },
  {
   "cell_type": "markdown",
   "metadata": {},
   "source": [
    "#### Weights"
   ]
  },
  {
   "cell_type": "raw",
   "metadata": {},
   "source": [
    "****************************************\n",
    "After 1000000 iteration\n",
    "****************************************\n",
    "round count\n",
    "  FOLD : -0.799\n",
    "  CALL : -0.2477\n",
    "  MIN_RAISE : -1.0773\n",
    "  DOUBLE_RAISE : -0.5997\n",
    "  TRIPLE_RAISE : -0.8388\n",
    "  MAX_RAISE : -1.164\n",
    "dealer button\n",
    "  FOLD : -0.509\n",
    "  CALL : -1.2238\n",
    "  MIN_RAISE : -0.202\n",
    "  DOUBLE_RAISE : -0.0486\n",
    "  TRIPLE_RAISE : -0.2369\n",
    "  MAX_RAISE : -0.0779\n",
    "street\n",
    "  FOLD : -0.7662\n",
    "  CALL : -0.1888\n",
    "  MIN_RAISE : 0.0402\n",
    "  DOUBLE_RAISE : -0.2613\n",
    "  TRIPLE_RAISE : -0.3772\n",
    "  MAX_RAISE : 0.3026\n",
    "cards\n",
    "  FOLD : 0.0044\n",
    "  CALL : 0.0923\n",
    "  MIN_RAISE : 0.0261\n",
    "  DOUBLE_RAISE : 0.0155\n",
    "  TRIPLE_RAISE : -0.0247\n",
    "  MAX_RAISE : 0.4409\n",
    "pot\n",
    "  FOLD : 0.167\n",
    "  CALL : -0.8804\n",
    "  MIN_RAISE : -0.241\n",
    "  DOUBLE_RAISE : 0.3663\n",
    "  TRIPLE_RAISE : 0.8181\n",
    "  MAX_RAISE : 1.4528\n",
    "seats\n",
    "    player 0\n",
    "      stack : {'DOUBLE_RAISE': 0.9388, 'TRIPLE_RAISE': 0.6936, 'MAX_RAISE': 1.353, 'FOLD': 0.6161, 'MIN_RAISE': 0.6666, 'CALL': 1.3164}\n",
    "      state : {'DOUBLE_RAISE': -1.2322, 'TRIPLE_RAISE': -0.8537, 'MAX_RAISE': -0.649, 'FOLD': -0.5878, 'MIN_RAISE': -1.2492, 'CALL': -0.7438}\n",
    "      history(paid sum) : {'DOUBLE_RAISE': 3.5579, 'TRIPLE_RAISE': 2.9164, 'MAX_RAISE': 1.9745, 'FOLD': 2.8783, 'MIN_RAISE': 4.1536, 'CALL': 3.2093}\n",
    "    player 1\n",
    "      stack : {'DOUBLE_RAISE': -0.5717, 'TRIPLE_RAISE': -0.5889, 'MAX_RAISE': -0.8329, 'FOLD': 0.0355, 'MIN_RAISE': -0.5764, 'CALL': -0.1241}\n",
    "      state : {'DOUBLE_RAISE': -0.0172, 'TRIPLE_RAISE': -0.0607, 'MAX_RAISE': 0.1278, 'FOLD': 0.0452, 'MIN_RAISE': -0.0398, 'CALL': -0.0139}\n",
    "      history(paid sum) : {'DOUBLE_RAISE': 3.7549, 'TRIPLE_RAISE': 4.1749, 'MAX_RAISE': 1.7271, 'FOLD': 1.6896, 'MIN_RAISE': 4.0333, 'CALL': 2.2644}\n",
    "    player 2\n",
    "      stack : {'DOUBLE_RAISE': -0.6296, 'TRIPLE_RAISE': -0.6637, 'MAX_RAISE': -1.1977, 'FOLD': 0.1594, 'MIN_RAISE': -0.6729, 'CALL': 0.0892}\n",
    "      state : {'DOUBLE_RAISE': 0.0472, 'TRIPLE_RAISE': -0.0179, 'MAX_RAISE': -0.0486, 'FOLD': -0.0231, 'MIN_RAISE': -0.0099, 'CALL': 0.0016}\n",
    "      history(paid sum) : {'DOUBLE_RAISE': 2.7842, 'TRIPLE_RAISE': 2.7729, 'MAX_RAISE': 0.6359, 'FOLD': 1.2562, 'MIN_RAISE': 2.778, 'CALL': 1.6606}\n",
    "    player 3\n",
    "      stack : {'DOUBLE_RAISE': -0.6249, 'TRIPLE_RAISE': -0.6245, 'MAX_RAISE': -1.1292, 'FOLD': 0.0656, 'MIN_RAISE': -0.6763, 'CALL': -0.3228}\n",
    "      state : {'DOUBLE_RAISE': -0.0072, 'TRIPLE_RAISE': -0.0123, 'MAX_RAISE': 0.018, 'FOLD': 0.0182, 'MIN_RAISE': -0.0272, 'CALL': 0.043}\n",
    "      history(paid sum) : {'DOUBLE_RAISE': 2.6487, 'TRIPLE_RAISE': 2.5586, 'MAX_RAISE': 1.1103, 'FOLD': 1.407, 'MIN_RAISE': 2.9701, 'CALL': 1.5523}\n",
    "    player 4\n",
    "      stack : {'DOUBLE_RAISE': -0.6902, 'TRIPLE_RAISE': -0.905, 'MAX_RAISE': -0.6991, 'FOLD': 0.0687, 'MIN_RAISE': -0.8005, 'CALL': -0.1131}\n",
    "      state : {'DOUBLE_RAISE': -0.0803, 'TRIPLE_RAISE': -0.1345, 'MAX_RAISE': 0.0179, 'FOLD': -0.0053, 'MIN_RAISE': -0.1245, 'CALL': -0.0299}\n",
    "      history(paid sum) : {'DOUBLE_RAISE': 3.0857, 'TRIPLE_RAISE': 2.8058, 'MAX_RAISE': 1.7468, 'FOLD': 1.5018, 'MIN_RAISE': 3.3718, 'CALL': 1.1043}\n",
    "    player 5\n",
    "      stack : {'DOUBLE_RAISE': -0.8009, 'TRIPLE_RAISE': -0.6297, 'MAX_RAISE': -1.1158, 'FOLD': -0.0322, 'MIN_RAISE': -0.3292, 'CALL': 0.6325}\n",
    "      state : {'DOUBLE_RAISE': 0.0562, 'TRIPLE_RAISE': -0.0255, 'MAX_RAISE': 0.0679, 'FOLD': -0.0252, 'MIN_RAISE': 0.0644, 'CALL': -0.1283}\n",
    "      history(paid sum) : {'DOUBLE_RAISE': 3.5793, 'TRIPLE_RAISE': 4.7074, 'MAX_RAISE': 1.7346, 'FOLD': 1.8245, 'MIN_RAISE': 3.7903, 'CALL': 2.4142}\n",
    "    player 6\n",
    "      stack : {'DOUBLE_RAISE': -0.5842, 'TRIPLE_RAISE': -0.5237, 'MAX_RAISE': -0.2214, 'FOLD': -0.0953, 'MIN_RAISE': -0.6917, 'CALL': -0.2787}\n",
    "      state : {'DOUBLE_RAISE': 0.0579, 'TRIPLE_RAISE': 0.0578, 'MAX_RAISE': 0.1388, 'FOLD': -0.0123, 'MIN_RAISE': 0.0591, 'CALL': 0.0358}\n",
    "      history(paid sum) : {'DOUBLE_RAISE': 2.6396, 'TRIPLE_RAISE': 2.2392, 'MAX_RAISE': 0.9132, 'FOLD': 1.4773, 'MIN_RAISE': 2.8296, 'CALL': 1.7893}\n",
    "    player 7\n",
    "      stack : {'DOUBLE_RAISE': -0.8907, 'TRIPLE_RAISE': -1.2653, 'MAX_RAISE': -0.5274, 'FOLD': -0.5085, 'MIN_RAISE': -0.7357, 'CALL': 0.096}\n",
    "      state : {'DOUBLE_RAISE': 0.235, 'TRIPLE_RAISE': 0.2193, 'MAX_RAISE': 0.1262, 'FOLD': -0.0111, 'MIN_RAISE': 0.1693, 'CALL': 0.1613}\n",
    "      history(paid sum) : {'DOUBLE_RAISE': 2.4603, 'TRIPLE_RAISE': 2.4894, 'MAX_RAISE': 0.7401, 'FOLD': 1.4636, 'MIN_RAISE': 2.8107, 'CALL': 1.005}\n",
    "    player 8\n",
    "      stack : {'DOUBLE_RAISE': -0.6789, 'TRIPLE_RAISE': -0.6735, 'MAX_RAISE': -0.7778, 'FOLD': 0.0987, 'MIN_RAISE': -0.6154, 'CALL': -0.1188}\n",
    "      state : {'DOUBLE_RAISE': 0.1478, 'TRIPLE_RAISE': 0.1225, 'MAX_RAISE': 0.0274, 'FOLD': -0.0026, 'MIN_RAISE': 0.1817, 'CALL': 0.0696}\n",
    "      history(paid sum) : {'DOUBLE_RAISE': 2.0316, 'TRIPLE_RAISE': 1.8507, 'MAX_RAISE': 0.549, 'FOLD': 1.4645, 'MIN_RAISE': 2.1372, 'CALL': 1.207}\n",
    "    player 9\n",
    "      stack : {'DOUBLE_RAISE': -0.5915, 'TRIPLE_RAISE': -0.6269, 'MAX_RAISE': -0.5318, 'FOLD': -0.0068, 'MIN_RAISE': -0.4636, 'CALL': -0.1539}\n",
    "      state : {'DOUBLE_RAISE': 0.0615, 'TRIPLE_RAISE': -0.0384, 'MAX_RAISE': -0.1359, 'FOLD': -0.0227, 'MIN_RAISE': -0.0245, 'CALL': 0.0837}\n",
    "      history(paid sum) : {'DOUBLE_RAISE': 2.4684, 'TRIPLE_RAISE': 2.3737, 'MAX_RAISE': 1.34, 'FOLD': 1.4859, 'MIN_RAISE': 2.8051, 'CALL': 1.5031}"
   ]
  },
  {
   "cell_type": "markdown",
   "metadata": {},
   "source": [
    "### Round-robin match with different annealing types\n",
    "- annealing_middle looks good\n",
    "<img src=\"./resource/epsilon_annaling_test_1231/2round/2_round_3000_match_subplot_1231_11_14_16.png\" width=600/>\n",
    "<img src=\"./resource/epsilon_annaling_test_1231/2round/2_round_3000_match_histgram_1231_11_14_16.png\" width=600/>"
   ]
  }
 ],
 "metadata": {
  "kernelspec": {
   "display_name": "Python 2",
   "language": "python",
   "name": "python2"
  },
  "language_info": {
   "codemirror_mode": {
    "name": "ipython",
    "version": 2
   },
   "file_extension": ".py",
   "mimetype": "text/x-python",
   "name": "python",
   "nbconvert_exporter": "python",
   "pygments_lexer": "ipython2",
   "version": "2.7.11"
  }
 },
 "nbformat": 4,
 "nbformat_minor": 0
}
